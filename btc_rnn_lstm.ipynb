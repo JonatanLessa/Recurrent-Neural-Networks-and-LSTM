{
  "nbformat": 4,
  "nbformat_minor": 0,
  "metadata": {
    "colab": {
      "name": "btc-rnn-lstm.ipynb",
      "provenance": [],
      "authorship_tag": "ABX9TyNAwX+O+NkPJgwuBmFdPHx+",
      "include_colab_link": true
    },
    "kernelspec": {
      "name": "python3",
      "display_name": "Python 3"
    },
    "language_info": {
      "name": "python"
    }
  },
  "cells": [
    {
      "cell_type": "markdown",
      "metadata": {
        "id": "view-in-github",
        "colab_type": "text"
      },
      "source": [
        "<a href=\"https://colab.research.google.com/github/JonatanLessa/Recurrent-Neural-Networks-and-LSTM/blob/main/btc_rnn_lstm.ipynb\" target=\"_parent\"><img src=\"https://colab.research.google.com/assets/colab-badge.svg\" alt=\"Open In Colab\"/></a>"
      ]
    },
    {
      "cell_type": "code",
      "execution_count": 386,
      "metadata": {
        "colab": {
          "base_uri": "https://localhost:8080/"
        },
        "id": "kV9lVh5xFb6r",
        "outputId": "a3395a65-73ab-4bf8-c008-6d4c2d49bcb2"
      },
      "outputs": [
        {
          "output_type": "stream",
          "name": "stdout",
          "text": [
            "Looking in indexes: https://pypi.org/simple, https://us-python.pkg.dev/colab-wheels/public/simple/\n",
            "Requirement already satisfied: bitfinex-v2 in /usr/local/lib/python3.7/dist-packages (1.8.0)\n",
            "Requirement already satisfied: twisted in /usr/local/lib/python3.7/dist-packages (from bitfinex-v2) (22.4.0)\n",
            "Requirement already satisfied: pyopenssl in /usr/local/lib/python3.7/dist-packages (from bitfinex-v2) (22.0.0)\n",
            "Requirement already satisfied: httpretty in /usr/local/lib/python3.7/dist-packages (from bitfinex-v2) (1.1.4)\n",
            "Requirement already satisfied: requests in /usr/local/lib/python3.7/dist-packages (from bitfinex-v2) (2.23.0)\n",
            "Requirement already satisfied: service-identity in /usr/local/lib/python3.7/dist-packages (from bitfinex-v2) (21.1.0)\n",
            "Requirement already satisfied: autobahn in /usr/local/lib/python3.7/dist-packages (from bitfinex-v2) (22.5.1)\n",
            "Requirement already satisfied: cryptography>=3.4.6 in /usr/local/lib/python3.7/dist-packages (from autobahn->bitfinex-v2) (37.0.2)\n",
            "Requirement already satisfied: setuptools in /usr/local/lib/python3.7/dist-packages (from autobahn->bitfinex-v2) (57.4.0)\n",
            "Requirement already satisfied: hyperlink>=21.0.0 in /usr/local/lib/python3.7/dist-packages (from autobahn->bitfinex-v2) (21.0.0)\n",
            "Requirement already satisfied: txaio>=21.2.1 in /usr/local/lib/python3.7/dist-packages (from autobahn->bitfinex-v2) (22.2.1)\n",
            "Requirement already satisfied: cffi>=1.12 in /usr/local/lib/python3.7/dist-packages (from cryptography>=3.4.6->autobahn->bitfinex-v2) (1.15.0)\n",
            "Requirement already satisfied: pycparser in /usr/local/lib/python3.7/dist-packages (from cffi>=1.12->cryptography>=3.4.6->autobahn->bitfinex-v2) (2.21)\n",
            "Requirement already satisfied: idna>=2.5 in /usr/local/lib/python3.7/dist-packages (from hyperlink>=21.0.0->autobahn->bitfinex-v2) (2.10)\n",
            "Requirement already satisfied: certifi>=2017.4.17 in /usr/local/lib/python3.7/dist-packages (from requests->bitfinex-v2) (2022.6.15)\n",
            "Requirement already satisfied: chardet<4,>=3.0.2 in /usr/local/lib/python3.7/dist-packages (from requests->bitfinex-v2) (3.0.4)\n",
            "Requirement already satisfied: urllib3!=1.25.0,!=1.25.1,<1.26,>=1.21.1 in /usr/local/lib/python3.7/dist-packages (from requests->bitfinex-v2) (1.24.3)\n",
            "Requirement already satisfied: attrs>=19.1.0 in /usr/local/lib/python3.7/dist-packages (from service-identity->bitfinex-v2) (21.4.0)\n",
            "Requirement already satisfied: six in /usr/local/lib/python3.7/dist-packages (from service-identity->bitfinex-v2) (1.15.0)\n",
            "Requirement already satisfied: pyasn1-modules in /usr/local/lib/python3.7/dist-packages (from service-identity->bitfinex-v2) (0.2.8)\n",
            "Requirement already satisfied: pyasn1 in /usr/local/lib/python3.7/dist-packages (from service-identity->bitfinex-v2) (0.4.8)\n",
            "Requirement already satisfied: typing-extensions>=3.6.5 in /usr/local/lib/python3.7/dist-packages (from twisted->bitfinex-v2) (4.1.1)\n",
            "Requirement already satisfied: constantly>=15.1 in /usr/local/lib/python3.7/dist-packages (from twisted->bitfinex-v2) (15.1.0)\n",
            "Requirement already satisfied: zope.interface>=4.4.2 in /usr/local/lib/python3.7/dist-packages (from twisted->bitfinex-v2) (5.4.0)\n",
            "Requirement already satisfied: Automat>=0.8.0 in /usr/local/lib/python3.7/dist-packages (from twisted->bitfinex-v2) (20.2.0)\n",
            "Requirement already satisfied: incremental>=21.3.0 in /usr/local/lib/python3.7/dist-packages (from twisted->bitfinex-v2) (21.3.0)\n"
          ]
        }
      ],
      "source": [
        "!pip install bitfinex-v2"
      ]
    },
    {
      "cell_type": "markdown",
      "source": [
        "Carrega um cliente para API da Bitfinex"
      ],
      "metadata": {
        "id": "hixPYxIzzT6Z"
      }
    },
    {
      "cell_type": "code",
      "source": [
        "key='' # key gerada através da Bitfinex\n",
        "secret='' # secret gerada através da Bitifinex"
      ],
      "metadata": {
        "id": "BK3PODpxakqd"
      },
      "execution_count": null,
      "outputs": []
    },
    {
      "cell_type": "code",
      "source": [
        "from bitfinex import ClientV2\n",
        "\n",
        "my_client = ClientV2(key=key, secret=secret)"
      ],
      "metadata": {
        "id": "oDD9HuFlvhbn"
      },
      "execution_count": 387,
      "outputs": []
    },
    {
      "cell_type": "code",
      "source": [
        "#from pytz import timezone\n",
        "from datetime import datetime\n",
        "import pandas as pd\n",
        "import numpy as np\n",
        "from sklearn.preprocessing import MinMaxScaler"
      ],
      "metadata": {
        "id": "TrGYVa8Y8fsp"
      },
      "execution_count": 388,
      "outputs": []
    },
    {
      "cell_type": "markdown",
      "source": [
        "Recebe uma lista de dados para os últimos valores do par BTCUSD"
      ],
      "metadata": {
        "id": "N-164FkCzJ_i"
      }
    },
    {
      "cell_type": "code",
      "source": [
        "hist = my_client.candles(timeframe='1D', symbol='tBTCUSD', section='hist', limit=10000)"
      ],
      "metadata": {
        "id": "NPq1Xovtx6BO"
      },
      "execution_count": 389,
      "outputs": []
    },
    {
      "cell_type": "markdown",
      "source": [
        "Transformando a lista de dados em Dataframe"
      ],
      "metadata": {
        "id": "KSQo2LRdzr_U"
      }
    },
    {
      "cell_type": "code",
      "source": [
        "data_set = pd.DataFrame(hist)\n",
        "\n",
        "data_set"
      ],
      "metadata": {
        "colab": {
          "base_uri": "https://localhost:8080/",
          "height": 424
        },
        "id": "lWSV1wjoE5N6",
        "outputId": "e6863691-43e3-4460-907d-fef293d9cbae"
      },
      "execution_count": 390,
      "outputs": [
        {
          "output_type": "execute_result",
          "data": {
            "text/plain": [
              "                  0             1             2            3            4  \\\n",
              "0     1656028800000  21076.000000  21089.906665  21172.00000  20944.00000   \n",
              "1     1655942400000  19952.000000  21074.000000  21179.00000  19855.00000   \n",
              "2     1655856000000  20689.232053  19944.000000  20848.00000  19730.00000   \n",
              "3     1655769600000  20554.000000  20694.000000  21675.00000  20327.00000   \n",
              "4     1655683200000  20543.455664  20549.097986  21039.00000  19626.00000   \n",
              "...             ...           ...           ...          ...          ...   \n",
              "3361  1365033600000    134.716560    132.899000    143.00000    119.00000   \n",
              "3362  1364947200000    117.958261    134.700000    146.88000    101.51088   \n",
              "3363  1364860800000    104.000000    118.229354    118.38670     99.00000   \n",
              "3364  1364774400000     93.250000    103.999000    105.90000     92.49999   \n",
              "3365  1364688000000     92.500000     93.033000     93.74999     91.00000   \n",
              "\n",
              "                 5  \n",
              "0       214.132628  \n",
              "1      6144.686931  \n",
              "2      7258.553527  \n",
              "3      8182.101222  \n",
              "4      6689.144788  \n",
              "...            ...  \n",
              "3361   6981.668305  \n",
              "3362  12996.245072  \n",
              "3363   8376.527478  \n",
              "3364   5224.401313  \n",
              "3365   3083.079791  \n",
              "\n",
              "[3366 rows x 6 columns]"
            ],
            "text/html": [
              "\n",
              "  <div id=\"df-8e6c5914-1d45-452f-bc50-a59c883dfa84\">\n",
              "    <div class=\"colab-df-container\">\n",
              "      <div>\n",
              "<style scoped>\n",
              "    .dataframe tbody tr th:only-of-type {\n",
              "        vertical-align: middle;\n",
              "    }\n",
              "\n",
              "    .dataframe tbody tr th {\n",
              "        vertical-align: top;\n",
              "    }\n",
              "\n",
              "    .dataframe thead th {\n",
              "        text-align: right;\n",
              "    }\n",
              "</style>\n",
              "<table border=\"1\" class=\"dataframe\">\n",
              "  <thead>\n",
              "    <tr style=\"text-align: right;\">\n",
              "      <th></th>\n",
              "      <th>0</th>\n",
              "      <th>1</th>\n",
              "      <th>2</th>\n",
              "      <th>3</th>\n",
              "      <th>4</th>\n",
              "      <th>5</th>\n",
              "    </tr>\n",
              "  </thead>\n",
              "  <tbody>\n",
              "    <tr>\n",
              "      <th>0</th>\n",
              "      <td>1656028800000</td>\n",
              "      <td>21076.000000</td>\n",
              "      <td>21089.906665</td>\n",
              "      <td>21172.00000</td>\n",
              "      <td>20944.00000</td>\n",
              "      <td>214.132628</td>\n",
              "    </tr>\n",
              "    <tr>\n",
              "      <th>1</th>\n",
              "      <td>1655942400000</td>\n",
              "      <td>19952.000000</td>\n",
              "      <td>21074.000000</td>\n",
              "      <td>21179.00000</td>\n",
              "      <td>19855.00000</td>\n",
              "      <td>6144.686931</td>\n",
              "    </tr>\n",
              "    <tr>\n",
              "      <th>2</th>\n",
              "      <td>1655856000000</td>\n",
              "      <td>20689.232053</td>\n",
              "      <td>19944.000000</td>\n",
              "      <td>20848.00000</td>\n",
              "      <td>19730.00000</td>\n",
              "      <td>7258.553527</td>\n",
              "    </tr>\n",
              "    <tr>\n",
              "      <th>3</th>\n",
              "      <td>1655769600000</td>\n",
              "      <td>20554.000000</td>\n",
              "      <td>20694.000000</td>\n",
              "      <td>21675.00000</td>\n",
              "      <td>20327.00000</td>\n",
              "      <td>8182.101222</td>\n",
              "    </tr>\n",
              "    <tr>\n",
              "      <th>4</th>\n",
              "      <td>1655683200000</td>\n",
              "      <td>20543.455664</td>\n",
              "      <td>20549.097986</td>\n",
              "      <td>21039.00000</td>\n",
              "      <td>19626.00000</td>\n",
              "      <td>6689.144788</td>\n",
              "    </tr>\n",
              "    <tr>\n",
              "      <th>...</th>\n",
              "      <td>...</td>\n",
              "      <td>...</td>\n",
              "      <td>...</td>\n",
              "      <td>...</td>\n",
              "      <td>...</td>\n",
              "      <td>...</td>\n",
              "    </tr>\n",
              "    <tr>\n",
              "      <th>3361</th>\n",
              "      <td>1365033600000</td>\n",
              "      <td>134.716560</td>\n",
              "      <td>132.899000</td>\n",
              "      <td>143.00000</td>\n",
              "      <td>119.00000</td>\n",
              "      <td>6981.668305</td>\n",
              "    </tr>\n",
              "    <tr>\n",
              "      <th>3362</th>\n",
              "      <td>1364947200000</td>\n",
              "      <td>117.958261</td>\n",
              "      <td>134.700000</td>\n",
              "      <td>146.88000</td>\n",
              "      <td>101.51088</td>\n",
              "      <td>12996.245072</td>\n",
              "    </tr>\n",
              "    <tr>\n",
              "      <th>3363</th>\n",
              "      <td>1364860800000</td>\n",
              "      <td>104.000000</td>\n",
              "      <td>118.229354</td>\n",
              "      <td>118.38670</td>\n",
              "      <td>99.00000</td>\n",
              "      <td>8376.527478</td>\n",
              "    </tr>\n",
              "    <tr>\n",
              "      <th>3364</th>\n",
              "      <td>1364774400000</td>\n",
              "      <td>93.250000</td>\n",
              "      <td>103.999000</td>\n",
              "      <td>105.90000</td>\n",
              "      <td>92.49999</td>\n",
              "      <td>5224.401313</td>\n",
              "    </tr>\n",
              "    <tr>\n",
              "      <th>3365</th>\n",
              "      <td>1364688000000</td>\n",
              "      <td>92.500000</td>\n",
              "      <td>93.033000</td>\n",
              "      <td>93.74999</td>\n",
              "      <td>91.00000</td>\n",
              "      <td>3083.079791</td>\n",
              "    </tr>\n",
              "  </tbody>\n",
              "</table>\n",
              "<p>3366 rows × 6 columns</p>\n",
              "</div>\n",
              "      <button class=\"colab-df-convert\" onclick=\"convertToInteractive('df-8e6c5914-1d45-452f-bc50-a59c883dfa84')\"\n",
              "              title=\"Convert this dataframe to an interactive table.\"\n",
              "              style=\"display:none;\">\n",
              "        \n",
              "  <svg xmlns=\"http://www.w3.org/2000/svg\" height=\"24px\"viewBox=\"0 0 24 24\"\n",
              "       width=\"24px\">\n",
              "    <path d=\"M0 0h24v24H0V0z\" fill=\"none\"/>\n",
              "    <path d=\"M18.56 5.44l.94 2.06.94-2.06 2.06-.94-2.06-.94-.94-2.06-.94 2.06-2.06.94zm-11 1L8.5 8.5l.94-2.06 2.06-.94-2.06-.94L8.5 2.5l-.94 2.06-2.06.94zm10 10l.94 2.06.94-2.06 2.06-.94-2.06-.94-.94-2.06-.94 2.06-2.06.94z\"/><path d=\"M17.41 7.96l-1.37-1.37c-.4-.4-.92-.59-1.43-.59-.52 0-1.04.2-1.43.59L10.3 9.45l-7.72 7.72c-.78.78-.78 2.05 0 2.83L4 21.41c.39.39.9.59 1.41.59.51 0 1.02-.2 1.41-.59l7.78-7.78 2.81-2.81c.8-.78.8-2.07 0-2.86zM5.41 20L4 18.59l7.72-7.72 1.47 1.35L5.41 20z\"/>\n",
              "  </svg>\n",
              "      </button>\n",
              "      \n",
              "  <style>\n",
              "    .colab-df-container {\n",
              "      display:flex;\n",
              "      flex-wrap:wrap;\n",
              "      gap: 12px;\n",
              "    }\n",
              "\n",
              "    .colab-df-convert {\n",
              "      background-color: #E8F0FE;\n",
              "      border: none;\n",
              "      border-radius: 50%;\n",
              "      cursor: pointer;\n",
              "      display: none;\n",
              "      fill: #1967D2;\n",
              "      height: 32px;\n",
              "      padding: 0 0 0 0;\n",
              "      width: 32px;\n",
              "    }\n",
              "\n",
              "    .colab-df-convert:hover {\n",
              "      background-color: #E2EBFA;\n",
              "      box-shadow: 0px 1px 2px rgba(60, 64, 67, 0.3), 0px 1px 3px 1px rgba(60, 64, 67, 0.15);\n",
              "      fill: #174EA6;\n",
              "    }\n",
              "\n",
              "    [theme=dark] .colab-df-convert {\n",
              "      background-color: #3B4455;\n",
              "      fill: #D2E3FC;\n",
              "    }\n",
              "\n",
              "    [theme=dark] .colab-df-convert:hover {\n",
              "      background-color: #434B5C;\n",
              "      box-shadow: 0px 1px 3px 1px rgba(0, 0, 0, 0.15);\n",
              "      filter: drop-shadow(0px 1px 2px rgba(0, 0, 0, 0.3));\n",
              "      fill: #FFFFFF;\n",
              "    }\n",
              "  </style>\n",
              "\n",
              "      <script>\n",
              "        const buttonEl =\n",
              "          document.querySelector('#df-8e6c5914-1d45-452f-bc50-a59c883dfa84 button.colab-df-convert');\n",
              "        buttonEl.style.display =\n",
              "          google.colab.kernel.accessAllowed ? 'block' : 'none';\n",
              "\n",
              "        async function convertToInteractive(key) {\n",
              "          const element = document.querySelector('#df-8e6c5914-1d45-452f-bc50-a59c883dfa84');\n",
              "          const dataTable =\n",
              "            await google.colab.kernel.invokeFunction('convertToInteractive',\n",
              "                                                     [key], {});\n",
              "          if (!dataTable) return;\n",
              "\n",
              "          const docLinkHtml = 'Like what you see? Visit the ' +\n",
              "            '<a target=\"_blank\" href=https://colab.research.google.com/notebooks/data_table.ipynb>data table notebook</a>'\n",
              "            + ' to learn more about interactive tables.';\n",
              "          element.innerHTML = '';\n",
              "          dataTable['output_type'] = 'display_data';\n",
              "          await google.colab.output.renderOutput(dataTable, element);\n",
              "          const docLink = document.createElement('div');\n",
              "          docLink.innerHTML = docLinkHtml;\n",
              "          element.appendChild(docLink);\n",
              "        }\n",
              "      </script>\n",
              "    </div>\n",
              "  </div>\n",
              "  "
            ]
          },
          "metadata": {},
          "execution_count": 390
        }
      ]
    },
    {
      "cell_type": "markdown",
      "source": [
        "Trata colunas"
      ],
      "metadata": {
        "id": "YN_2ceRZz3bR"
      }
    },
    {
      "cell_type": "code",
      "source": [
        "data_set = pd.DataFrame(hist, columns = ['Data', 'Abertura', 'Fechamento', 'Máxima', 'Mínima',  'Volume']) # Nomeia colunas\n",
        "data_set = data_set.drop(['Abertura', 'Volume'], axis=1) # Excui as colunas Abertura e Volume\n",
        "data_set = data_set.rename(columns={'Fechamento': 'Preço'}) # Renomeia a coluna Fechamento por Preço\n",
        "data_set"
      ],
      "metadata": {
        "colab": {
          "base_uri": "https://localhost:8080/",
          "height": 424
        },
        "id": "YFLGaid-FUGz",
        "outputId": "3067c5a9-89b4-4f13-9e84-0cbeafc6f9a0"
      },
      "execution_count": 391,
      "outputs": [
        {
          "output_type": "execute_result",
          "data": {
            "text/plain": [
              "               Data         Preço       Máxima       Mínima\n",
              "0     1656028800000  21089.906665  21172.00000  20944.00000\n",
              "1     1655942400000  21074.000000  21179.00000  19855.00000\n",
              "2     1655856000000  19944.000000  20848.00000  19730.00000\n",
              "3     1655769600000  20694.000000  21675.00000  20327.00000\n",
              "4     1655683200000  20549.097986  21039.00000  19626.00000\n",
              "...             ...           ...          ...          ...\n",
              "3361  1365033600000    132.899000    143.00000    119.00000\n",
              "3362  1364947200000    134.700000    146.88000    101.51088\n",
              "3363  1364860800000    118.229354    118.38670     99.00000\n",
              "3364  1364774400000    103.999000    105.90000     92.49999\n",
              "3365  1364688000000     93.033000     93.74999     91.00000\n",
              "\n",
              "[3366 rows x 4 columns]"
            ],
            "text/html": [
              "\n",
              "  <div id=\"df-ff4a74c6-b6cc-494a-97ff-50aaaa5ade02\">\n",
              "    <div class=\"colab-df-container\">\n",
              "      <div>\n",
              "<style scoped>\n",
              "    .dataframe tbody tr th:only-of-type {\n",
              "        vertical-align: middle;\n",
              "    }\n",
              "\n",
              "    .dataframe tbody tr th {\n",
              "        vertical-align: top;\n",
              "    }\n",
              "\n",
              "    .dataframe thead th {\n",
              "        text-align: right;\n",
              "    }\n",
              "</style>\n",
              "<table border=\"1\" class=\"dataframe\">\n",
              "  <thead>\n",
              "    <tr style=\"text-align: right;\">\n",
              "      <th></th>\n",
              "      <th>Data</th>\n",
              "      <th>Preço</th>\n",
              "      <th>Máxima</th>\n",
              "      <th>Mínima</th>\n",
              "    </tr>\n",
              "  </thead>\n",
              "  <tbody>\n",
              "    <tr>\n",
              "      <th>0</th>\n",
              "      <td>1656028800000</td>\n",
              "      <td>21089.906665</td>\n",
              "      <td>21172.00000</td>\n",
              "      <td>20944.00000</td>\n",
              "    </tr>\n",
              "    <tr>\n",
              "      <th>1</th>\n",
              "      <td>1655942400000</td>\n",
              "      <td>21074.000000</td>\n",
              "      <td>21179.00000</td>\n",
              "      <td>19855.00000</td>\n",
              "    </tr>\n",
              "    <tr>\n",
              "      <th>2</th>\n",
              "      <td>1655856000000</td>\n",
              "      <td>19944.000000</td>\n",
              "      <td>20848.00000</td>\n",
              "      <td>19730.00000</td>\n",
              "    </tr>\n",
              "    <tr>\n",
              "      <th>3</th>\n",
              "      <td>1655769600000</td>\n",
              "      <td>20694.000000</td>\n",
              "      <td>21675.00000</td>\n",
              "      <td>20327.00000</td>\n",
              "    </tr>\n",
              "    <tr>\n",
              "      <th>4</th>\n",
              "      <td>1655683200000</td>\n",
              "      <td>20549.097986</td>\n",
              "      <td>21039.00000</td>\n",
              "      <td>19626.00000</td>\n",
              "    </tr>\n",
              "    <tr>\n",
              "      <th>...</th>\n",
              "      <td>...</td>\n",
              "      <td>...</td>\n",
              "      <td>...</td>\n",
              "      <td>...</td>\n",
              "    </tr>\n",
              "    <tr>\n",
              "      <th>3361</th>\n",
              "      <td>1365033600000</td>\n",
              "      <td>132.899000</td>\n",
              "      <td>143.00000</td>\n",
              "      <td>119.00000</td>\n",
              "    </tr>\n",
              "    <tr>\n",
              "      <th>3362</th>\n",
              "      <td>1364947200000</td>\n",
              "      <td>134.700000</td>\n",
              "      <td>146.88000</td>\n",
              "      <td>101.51088</td>\n",
              "    </tr>\n",
              "    <tr>\n",
              "      <th>3363</th>\n",
              "      <td>1364860800000</td>\n",
              "      <td>118.229354</td>\n",
              "      <td>118.38670</td>\n",
              "      <td>99.00000</td>\n",
              "    </tr>\n",
              "    <tr>\n",
              "      <th>3364</th>\n",
              "      <td>1364774400000</td>\n",
              "      <td>103.999000</td>\n",
              "      <td>105.90000</td>\n",
              "      <td>92.49999</td>\n",
              "    </tr>\n",
              "    <tr>\n",
              "      <th>3365</th>\n",
              "      <td>1364688000000</td>\n",
              "      <td>93.033000</td>\n",
              "      <td>93.74999</td>\n",
              "      <td>91.00000</td>\n",
              "    </tr>\n",
              "  </tbody>\n",
              "</table>\n",
              "<p>3366 rows × 4 columns</p>\n",
              "</div>\n",
              "      <button class=\"colab-df-convert\" onclick=\"convertToInteractive('df-ff4a74c6-b6cc-494a-97ff-50aaaa5ade02')\"\n",
              "              title=\"Convert this dataframe to an interactive table.\"\n",
              "              style=\"display:none;\">\n",
              "        \n",
              "  <svg xmlns=\"http://www.w3.org/2000/svg\" height=\"24px\"viewBox=\"0 0 24 24\"\n",
              "       width=\"24px\">\n",
              "    <path d=\"M0 0h24v24H0V0z\" fill=\"none\"/>\n",
              "    <path d=\"M18.56 5.44l.94 2.06.94-2.06 2.06-.94-2.06-.94-.94-2.06-.94 2.06-2.06.94zm-11 1L8.5 8.5l.94-2.06 2.06-.94-2.06-.94L8.5 2.5l-.94 2.06-2.06.94zm10 10l.94 2.06.94-2.06 2.06-.94-2.06-.94-.94-2.06-.94 2.06-2.06.94z\"/><path d=\"M17.41 7.96l-1.37-1.37c-.4-.4-.92-.59-1.43-.59-.52 0-1.04.2-1.43.59L10.3 9.45l-7.72 7.72c-.78.78-.78 2.05 0 2.83L4 21.41c.39.39.9.59 1.41.59.51 0 1.02-.2 1.41-.59l7.78-7.78 2.81-2.81c.8-.78.8-2.07 0-2.86zM5.41 20L4 18.59l7.72-7.72 1.47 1.35L5.41 20z\"/>\n",
              "  </svg>\n",
              "      </button>\n",
              "      \n",
              "  <style>\n",
              "    .colab-df-container {\n",
              "      display:flex;\n",
              "      flex-wrap:wrap;\n",
              "      gap: 12px;\n",
              "    }\n",
              "\n",
              "    .colab-df-convert {\n",
              "      background-color: #E8F0FE;\n",
              "      border: none;\n",
              "      border-radius: 50%;\n",
              "      cursor: pointer;\n",
              "      display: none;\n",
              "      fill: #1967D2;\n",
              "      height: 32px;\n",
              "      padding: 0 0 0 0;\n",
              "      width: 32px;\n",
              "    }\n",
              "\n",
              "    .colab-df-convert:hover {\n",
              "      background-color: #E2EBFA;\n",
              "      box-shadow: 0px 1px 2px rgba(60, 64, 67, 0.3), 0px 1px 3px 1px rgba(60, 64, 67, 0.15);\n",
              "      fill: #174EA6;\n",
              "    }\n",
              "\n",
              "    [theme=dark] .colab-df-convert {\n",
              "      background-color: #3B4455;\n",
              "      fill: #D2E3FC;\n",
              "    }\n",
              "\n",
              "    [theme=dark] .colab-df-convert:hover {\n",
              "      background-color: #434B5C;\n",
              "      box-shadow: 0px 1px 3px 1px rgba(0, 0, 0, 0.15);\n",
              "      filter: drop-shadow(0px 1px 2px rgba(0, 0, 0, 0.3));\n",
              "      fill: #FFFFFF;\n",
              "    }\n",
              "  </style>\n",
              "\n",
              "      <script>\n",
              "        const buttonEl =\n",
              "          document.querySelector('#df-ff4a74c6-b6cc-494a-97ff-50aaaa5ade02 button.colab-df-convert');\n",
              "        buttonEl.style.display =\n",
              "          google.colab.kernel.accessAllowed ? 'block' : 'none';\n",
              "\n",
              "        async function convertToInteractive(key) {\n",
              "          const element = document.querySelector('#df-ff4a74c6-b6cc-494a-97ff-50aaaa5ade02');\n",
              "          const dataTable =\n",
              "            await google.colab.kernel.invokeFunction('convertToInteractive',\n",
              "                                                     [key], {});\n",
              "          if (!dataTable) return;\n",
              "\n",
              "          const docLinkHtml = 'Like what you see? Visit the ' +\n",
              "            '<a target=\"_blank\" href=https://colab.research.google.com/notebooks/data_table.ipynb>data table notebook</a>'\n",
              "            + ' to learn more about interactive tables.';\n",
              "          element.innerHTML = '';\n",
              "          dataTable['output_type'] = 'display_data';\n",
              "          await google.colab.output.renderOutput(dataTable, element);\n",
              "          const docLink = document.createElement('div');\n",
              "          docLink.innerHTML = docLinkHtml;\n",
              "          element.appendChild(docLink);\n",
              "        }\n",
              "      </script>\n",
              "    </div>\n",
              "  </div>\n",
              "  "
            ]
          },
          "metadata": {},
          "execution_count": 391
        }
      ]
    },
    {
      "cell_type": "code",
      "source": [
        "#data_set = data_set[['Data', 'Preço', 'Máxima', 'Mínima']]"
      ],
      "metadata": {
        "id": "Gd-XhqwoGMi8"
      },
      "execution_count": null,
      "outputs": []
    },
    {
      "cell_type": "markdown",
      "source": [
        "Formata casas decimais nas colunas de valores"
      ],
      "metadata": {
        "id": "Xgc3WMwu1NFx"
      }
    },
    {
      "cell_type": "code",
      "source": [
        "data_set['Preço'] = data_set['Preço'].apply(lambda x: '{:.1f}'.format(x))\n",
        "data_set['Máxima'] = data_set['Máxima'].apply(lambda x: '{:.1f}'.format(x))\n",
        "data_set['Mínima'] = data_set['Mínima'].apply(lambda x: '{:.1f}'.format(x))"
      ],
      "metadata": {
        "id": "-FX5VX5bVClw"
      },
      "execution_count": 392,
      "outputs": []
    },
    {
      "cell_type": "code",
      "source": [
        "data_set"
      ],
      "metadata": {
        "colab": {
          "base_uri": "https://localhost:8080/",
          "height": 424
        },
        "id": "ZMlCUQuV1JlE",
        "outputId": "f984cc8f-e2ef-4b4a-ca84-0e9b2173e957"
      },
      "execution_count": 393,
      "outputs": [
        {
          "output_type": "execute_result",
          "data": {
            "text/plain": [
              "               Data    Preço   Máxima   Mínima\n",
              "0     1656028800000  21089.9  21172.0  20944.0\n",
              "1     1655942400000  21074.0  21179.0  19855.0\n",
              "2     1655856000000  19944.0  20848.0  19730.0\n",
              "3     1655769600000  20694.0  21675.0  20327.0\n",
              "4     1655683200000  20549.1  21039.0  19626.0\n",
              "...             ...      ...      ...      ...\n",
              "3361  1365033600000    132.9    143.0    119.0\n",
              "3362  1364947200000    134.7    146.9    101.5\n",
              "3363  1364860800000    118.2    118.4     99.0\n",
              "3364  1364774400000    104.0    105.9     92.5\n",
              "3365  1364688000000     93.0     93.7     91.0\n",
              "\n",
              "[3366 rows x 4 columns]"
            ],
            "text/html": [
              "\n",
              "  <div id=\"df-1c2517d3-a19e-48be-ab11-bda5d053a462\">\n",
              "    <div class=\"colab-df-container\">\n",
              "      <div>\n",
              "<style scoped>\n",
              "    .dataframe tbody tr th:only-of-type {\n",
              "        vertical-align: middle;\n",
              "    }\n",
              "\n",
              "    .dataframe tbody tr th {\n",
              "        vertical-align: top;\n",
              "    }\n",
              "\n",
              "    .dataframe thead th {\n",
              "        text-align: right;\n",
              "    }\n",
              "</style>\n",
              "<table border=\"1\" class=\"dataframe\">\n",
              "  <thead>\n",
              "    <tr style=\"text-align: right;\">\n",
              "      <th></th>\n",
              "      <th>Data</th>\n",
              "      <th>Preço</th>\n",
              "      <th>Máxima</th>\n",
              "      <th>Mínima</th>\n",
              "    </tr>\n",
              "  </thead>\n",
              "  <tbody>\n",
              "    <tr>\n",
              "      <th>0</th>\n",
              "      <td>1656028800000</td>\n",
              "      <td>21089.9</td>\n",
              "      <td>21172.0</td>\n",
              "      <td>20944.0</td>\n",
              "    </tr>\n",
              "    <tr>\n",
              "      <th>1</th>\n",
              "      <td>1655942400000</td>\n",
              "      <td>21074.0</td>\n",
              "      <td>21179.0</td>\n",
              "      <td>19855.0</td>\n",
              "    </tr>\n",
              "    <tr>\n",
              "      <th>2</th>\n",
              "      <td>1655856000000</td>\n",
              "      <td>19944.0</td>\n",
              "      <td>20848.0</td>\n",
              "      <td>19730.0</td>\n",
              "    </tr>\n",
              "    <tr>\n",
              "      <th>3</th>\n",
              "      <td>1655769600000</td>\n",
              "      <td>20694.0</td>\n",
              "      <td>21675.0</td>\n",
              "      <td>20327.0</td>\n",
              "    </tr>\n",
              "    <tr>\n",
              "      <th>4</th>\n",
              "      <td>1655683200000</td>\n",
              "      <td>20549.1</td>\n",
              "      <td>21039.0</td>\n",
              "      <td>19626.0</td>\n",
              "    </tr>\n",
              "    <tr>\n",
              "      <th>...</th>\n",
              "      <td>...</td>\n",
              "      <td>...</td>\n",
              "      <td>...</td>\n",
              "      <td>...</td>\n",
              "    </tr>\n",
              "    <tr>\n",
              "      <th>3361</th>\n",
              "      <td>1365033600000</td>\n",
              "      <td>132.9</td>\n",
              "      <td>143.0</td>\n",
              "      <td>119.0</td>\n",
              "    </tr>\n",
              "    <tr>\n",
              "      <th>3362</th>\n",
              "      <td>1364947200000</td>\n",
              "      <td>134.7</td>\n",
              "      <td>146.9</td>\n",
              "      <td>101.5</td>\n",
              "    </tr>\n",
              "    <tr>\n",
              "      <th>3363</th>\n",
              "      <td>1364860800000</td>\n",
              "      <td>118.2</td>\n",
              "      <td>118.4</td>\n",
              "      <td>99.0</td>\n",
              "    </tr>\n",
              "    <tr>\n",
              "      <th>3364</th>\n",
              "      <td>1364774400000</td>\n",
              "      <td>104.0</td>\n",
              "      <td>105.9</td>\n",
              "      <td>92.5</td>\n",
              "    </tr>\n",
              "    <tr>\n",
              "      <th>3365</th>\n",
              "      <td>1364688000000</td>\n",
              "      <td>93.0</td>\n",
              "      <td>93.7</td>\n",
              "      <td>91.0</td>\n",
              "    </tr>\n",
              "  </tbody>\n",
              "</table>\n",
              "<p>3366 rows × 4 columns</p>\n",
              "</div>\n",
              "      <button class=\"colab-df-convert\" onclick=\"convertToInteractive('df-1c2517d3-a19e-48be-ab11-bda5d053a462')\"\n",
              "              title=\"Convert this dataframe to an interactive table.\"\n",
              "              style=\"display:none;\">\n",
              "        \n",
              "  <svg xmlns=\"http://www.w3.org/2000/svg\" height=\"24px\"viewBox=\"0 0 24 24\"\n",
              "       width=\"24px\">\n",
              "    <path d=\"M0 0h24v24H0V0z\" fill=\"none\"/>\n",
              "    <path d=\"M18.56 5.44l.94 2.06.94-2.06 2.06-.94-2.06-.94-.94-2.06-.94 2.06-2.06.94zm-11 1L8.5 8.5l.94-2.06 2.06-.94-2.06-.94L8.5 2.5l-.94 2.06-2.06.94zm10 10l.94 2.06.94-2.06 2.06-.94-2.06-.94-.94-2.06-.94 2.06-2.06.94z\"/><path d=\"M17.41 7.96l-1.37-1.37c-.4-.4-.92-.59-1.43-.59-.52 0-1.04.2-1.43.59L10.3 9.45l-7.72 7.72c-.78.78-.78 2.05 0 2.83L4 21.41c.39.39.9.59 1.41.59.51 0 1.02-.2 1.41-.59l7.78-7.78 2.81-2.81c.8-.78.8-2.07 0-2.86zM5.41 20L4 18.59l7.72-7.72 1.47 1.35L5.41 20z\"/>\n",
              "  </svg>\n",
              "      </button>\n",
              "      \n",
              "  <style>\n",
              "    .colab-df-container {\n",
              "      display:flex;\n",
              "      flex-wrap:wrap;\n",
              "      gap: 12px;\n",
              "    }\n",
              "\n",
              "    .colab-df-convert {\n",
              "      background-color: #E8F0FE;\n",
              "      border: none;\n",
              "      border-radius: 50%;\n",
              "      cursor: pointer;\n",
              "      display: none;\n",
              "      fill: #1967D2;\n",
              "      height: 32px;\n",
              "      padding: 0 0 0 0;\n",
              "      width: 32px;\n",
              "    }\n",
              "\n",
              "    .colab-df-convert:hover {\n",
              "      background-color: #E2EBFA;\n",
              "      box-shadow: 0px 1px 2px rgba(60, 64, 67, 0.3), 0px 1px 3px 1px rgba(60, 64, 67, 0.15);\n",
              "      fill: #174EA6;\n",
              "    }\n",
              "\n",
              "    [theme=dark] .colab-df-convert {\n",
              "      background-color: #3B4455;\n",
              "      fill: #D2E3FC;\n",
              "    }\n",
              "\n",
              "    [theme=dark] .colab-df-convert:hover {\n",
              "      background-color: #434B5C;\n",
              "      box-shadow: 0px 1px 3px 1px rgba(0, 0, 0, 0.15);\n",
              "      filter: drop-shadow(0px 1px 2px rgba(0, 0, 0, 0.3));\n",
              "      fill: #FFFFFF;\n",
              "    }\n",
              "  </style>\n",
              "\n",
              "      <script>\n",
              "        const buttonEl =\n",
              "          document.querySelector('#df-1c2517d3-a19e-48be-ab11-bda5d053a462 button.colab-df-convert');\n",
              "        buttonEl.style.display =\n",
              "          google.colab.kernel.accessAllowed ? 'block' : 'none';\n",
              "\n",
              "        async function convertToInteractive(key) {\n",
              "          const element = document.querySelector('#df-1c2517d3-a19e-48be-ab11-bda5d053a462');\n",
              "          const dataTable =\n",
              "            await google.colab.kernel.invokeFunction('convertToInteractive',\n",
              "                                                     [key], {});\n",
              "          if (!dataTable) return;\n",
              "\n",
              "          const docLinkHtml = 'Like what you see? Visit the ' +\n",
              "            '<a target=\"_blank\" href=https://colab.research.google.com/notebooks/data_table.ipynb>data table notebook</a>'\n",
              "            + ' to learn more about interactive tables.';\n",
              "          element.innerHTML = '';\n",
              "          dataTable['output_type'] = 'display_data';\n",
              "          await google.colab.output.renderOutput(dataTable, element);\n",
              "          const docLink = document.createElement('div');\n",
              "          docLink.innerHTML = docLinkHtml;\n",
              "          element.appendChild(docLink);\n",
              "        }\n",
              "      </script>\n",
              "    </div>\n",
              "  </div>\n",
              "  "
            ]
          },
          "metadata": {},
          "execution_count": 393
        }
      ]
    },
    {
      "cell_type": "markdown",
      "source": [
        "Copia o data_set"
      ],
      "metadata": {
        "id": "XuINSRtIPIet"
      }
    },
    {
      "cell_type": "code",
      "source": [
        "dataset = data_set.copy()"
      ],
      "metadata": {
        "id": "GG20hcWhT8Lm"
      },
      "execution_count": 394,
      "outputs": []
    },
    {
      "cell_type": "markdown",
      "source": [
        "Cria datas data a partir de um timestamp"
      ],
      "metadata": {
        "id": "NxHm3DTb0lfM"
      }
    },
    {
      "cell_type": "code",
      "source": [
        "dataset['Data'] = pd.to_datetime(dataset['Data'], unit='ms')"
      ],
      "metadata": {
        "id": "uvhWHVMgT-bA"
      },
      "execution_count": 395,
      "outputs": []
    },
    {
      "cell_type": "code",
      "source": [
        "#dataset['Preço'] = dataset['Preço'].apply(lambda x: x[:-7])\n",
        "#dataset['Máxima'] = dataset['Máxima'].apply(lambda x: x[:-7])\n",
        "#dataset['Mínima'] = dataset['Mínima'].apply(lambda x: x[:-7])"
      ],
      "metadata": {
        "id": "EpFfRc77UA15"
      },
      "execution_count": null,
      "outputs": []
    },
    {
      "cell_type": "markdown",
      "source": [
        "Carrega dados do Fear & Greed Index"
      ],
      "metadata": {
        "id": "-EyIeLi41eMR"
      }
    },
    {
      "cell_type": "code",
      "source": [
        "fear = pd.read_csv('fear_and_greed_index2.csv')\n",
        "fear"
      ],
      "metadata": {
        "colab": {
          "base_uri": "https://localhost:8080/",
          "height": 424
        },
        "id": "tqfXkG8mfGC4",
        "outputId": "a16ea928-a88e-488d-df94-97b564b8364c"
      },
      "execution_count": 396,
      "outputs": [
        {
          "output_type": "execute_result",
          "data": {
            "text/plain": [
              "            date  fng_value fng_classification\n",
              "0     20-06-2022          9       Extreme Fear\n",
              "1     19-06-2022          6       Extreme Fear\n",
              "2     18-06-2022          6       Extreme Fear\n",
              "3     17-06-2022          9       Extreme Fear\n",
              "4     16-06-2022          7       Extreme Fear\n",
              "...          ...        ...                ...\n",
              "1596  05-02-2018         11       Extreme Fear\n",
              "1597  04-02-2018         24       Extreme Fear\n",
              "1598  03-02-2018         40               Fear\n",
              "1599  02-02-2018         15       Extreme Fear\n",
              "1600  01-02-2018         30               Fear\n",
              "\n",
              "[1601 rows x 3 columns]"
            ],
            "text/html": [
              "\n",
              "  <div id=\"df-1aabadc3-a321-4d91-a577-de27c4692d9a\">\n",
              "    <div class=\"colab-df-container\">\n",
              "      <div>\n",
              "<style scoped>\n",
              "    .dataframe tbody tr th:only-of-type {\n",
              "        vertical-align: middle;\n",
              "    }\n",
              "\n",
              "    .dataframe tbody tr th {\n",
              "        vertical-align: top;\n",
              "    }\n",
              "\n",
              "    .dataframe thead th {\n",
              "        text-align: right;\n",
              "    }\n",
              "</style>\n",
              "<table border=\"1\" class=\"dataframe\">\n",
              "  <thead>\n",
              "    <tr style=\"text-align: right;\">\n",
              "      <th></th>\n",
              "      <th>date</th>\n",
              "      <th>fng_value</th>\n",
              "      <th>fng_classification</th>\n",
              "    </tr>\n",
              "  </thead>\n",
              "  <tbody>\n",
              "    <tr>\n",
              "      <th>0</th>\n",
              "      <td>20-06-2022</td>\n",
              "      <td>9</td>\n",
              "      <td>Extreme Fear</td>\n",
              "    </tr>\n",
              "    <tr>\n",
              "      <th>1</th>\n",
              "      <td>19-06-2022</td>\n",
              "      <td>6</td>\n",
              "      <td>Extreme Fear</td>\n",
              "    </tr>\n",
              "    <tr>\n",
              "      <th>2</th>\n",
              "      <td>18-06-2022</td>\n",
              "      <td>6</td>\n",
              "      <td>Extreme Fear</td>\n",
              "    </tr>\n",
              "    <tr>\n",
              "      <th>3</th>\n",
              "      <td>17-06-2022</td>\n",
              "      <td>9</td>\n",
              "      <td>Extreme Fear</td>\n",
              "    </tr>\n",
              "    <tr>\n",
              "      <th>4</th>\n",
              "      <td>16-06-2022</td>\n",
              "      <td>7</td>\n",
              "      <td>Extreme Fear</td>\n",
              "    </tr>\n",
              "    <tr>\n",
              "      <th>...</th>\n",
              "      <td>...</td>\n",
              "      <td>...</td>\n",
              "      <td>...</td>\n",
              "    </tr>\n",
              "    <tr>\n",
              "      <th>1596</th>\n",
              "      <td>05-02-2018</td>\n",
              "      <td>11</td>\n",
              "      <td>Extreme Fear</td>\n",
              "    </tr>\n",
              "    <tr>\n",
              "      <th>1597</th>\n",
              "      <td>04-02-2018</td>\n",
              "      <td>24</td>\n",
              "      <td>Extreme Fear</td>\n",
              "    </tr>\n",
              "    <tr>\n",
              "      <th>1598</th>\n",
              "      <td>03-02-2018</td>\n",
              "      <td>40</td>\n",
              "      <td>Fear</td>\n",
              "    </tr>\n",
              "    <tr>\n",
              "      <th>1599</th>\n",
              "      <td>02-02-2018</td>\n",
              "      <td>15</td>\n",
              "      <td>Extreme Fear</td>\n",
              "    </tr>\n",
              "    <tr>\n",
              "      <th>1600</th>\n",
              "      <td>01-02-2018</td>\n",
              "      <td>30</td>\n",
              "      <td>Fear</td>\n",
              "    </tr>\n",
              "  </tbody>\n",
              "</table>\n",
              "<p>1601 rows × 3 columns</p>\n",
              "</div>\n",
              "      <button class=\"colab-df-convert\" onclick=\"convertToInteractive('df-1aabadc3-a321-4d91-a577-de27c4692d9a')\"\n",
              "              title=\"Convert this dataframe to an interactive table.\"\n",
              "              style=\"display:none;\">\n",
              "        \n",
              "  <svg xmlns=\"http://www.w3.org/2000/svg\" height=\"24px\"viewBox=\"0 0 24 24\"\n",
              "       width=\"24px\">\n",
              "    <path d=\"M0 0h24v24H0V0z\" fill=\"none\"/>\n",
              "    <path d=\"M18.56 5.44l.94 2.06.94-2.06 2.06-.94-2.06-.94-.94-2.06-.94 2.06-2.06.94zm-11 1L8.5 8.5l.94-2.06 2.06-.94-2.06-.94L8.5 2.5l-.94 2.06-2.06.94zm10 10l.94 2.06.94-2.06 2.06-.94-2.06-.94-.94-2.06-.94 2.06-2.06.94z\"/><path d=\"M17.41 7.96l-1.37-1.37c-.4-.4-.92-.59-1.43-.59-.52 0-1.04.2-1.43.59L10.3 9.45l-7.72 7.72c-.78.78-.78 2.05 0 2.83L4 21.41c.39.39.9.59 1.41.59.51 0 1.02-.2 1.41-.59l7.78-7.78 2.81-2.81c.8-.78.8-2.07 0-2.86zM5.41 20L4 18.59l7.72-7.72 1.47 1.35L5.41 20z\"/>\n",
              "  </svg>\n",
              "      </button>\n",
              "      \n",
              "  <style>\n",
              "    .colab-df-container {\n",
              "      display:flex;\n",
              "      flex-wrap:wrap;\n",
              "      gap: 12px;\n",
              "    }\n",
              "\n",
              "    .colab-df-convert {\n",
              "      background-color: #E8F0FE;\n",
              "      border: none;\n",
              "      border-radius: 50%;\n",
              "      cursor: pointer;\n",
              "      display: none;\n",
              "      fill: #1967D2;\n",
              "      height: 32px;\n",
              "      padding: 0 0 0 0;\n",
              "      width: 32px;\n",
              "    }\n",
              "\n",
              "    .colab-df-convert:hover {\n",
              "      background-color: #E2EBFA;\n",
              "      box-shadow: 0px 1px 2px rgba(60, 64, 67, 0.3), 0px 1px 3px 1px rgba(60, 64, 67, 0.15);\n",
              "      fill: #174EA6;\n",
              "    }\n",
              "\n",
              "    [theme=dark] .colab-df-convert {\n",
              "      background-color: #3B4455;\n",
              "      fill: #D2E3FC;\n",
              "    }\n",
              "\n",
              "    [theme=dark] .colab-df-convert:hover {\n",
              "      background-color: #434B5C;\n",
              "      box-shadow: 0px 1px 3px 1px rgba(0, 0, 0, 0.15);\n",
              "      filter: drop-shadow(0px 1px 2px rgba(0, 0, 0, 0.3));\n",
              "      fill: #FFFFFF;\n",
              "    }\n",
              "  </style>\n",
              "\n",
              "      <script>\n",
              "        const buttonEl =\n",
              "          document.querySelector('#df-1aabadc3-a321-4d91-a577-de27c4692d9a button.colab-df-convert');\n",
              "        buttonEl.style.display =\n",
              "          google.colab.kernel.accessAllowed ? 'block' : 'none';\n",
              "\n",
              "        async function convertToInteractive(key) {\n",
              "          const element = document.querySelector('#df-1aabadc3-a321-4d91-a577-de27c4692d9a');\n",
              "          const dataTable =\n",
              "            await google.colab.kernel.invokeFunction('convertToInteractive',\n",
              "                                                     [key], {});\n",
              "          if (!dataTable) return;\n",
              "\n",
              "          const docLinkHtml = 'Like what you see? Visit the ' +\n",
              "            '<a target=\"_blank\" href=https://colab.research.google.com/notebooks/data_table.ipynb>data table notebook</a>'\n",
              "            + ' to learn more about interactive tables.';\n",
              "          element.innerHTML = '';\n",
              "          dataTable['output_type'] = 'display_data';\n",
              "          await google.colab.output.renderOutput(dataTable, element);\n",
              "          const docLink = document.createElement('div');\n",
              "          docLink.innerHTML = docLinkHtml;\n",
              "          element.appendChild(docLink);\n",
              "        }\n",
              "      </script>\n",
              "    </div>\n",
              "  </div>\n",
              "  "
            ]
          },
          "metadata": {},
          "execution_count": 396
        }
      ]
    },
    {
      "cell_type": "markdown",
      "source": [
        "Atribui uma nova coluna com os valores do Fear & Greed Index ao dataset"
      ],
      "metadata": {
        "id": "qJgyK1ij1n-e"
      }
    },
    {
      "cell_type": "code",
      "source": [
        "dataset['Fear'] = fear['fng_value']"
      ],
      "metadata": {
        "id": "8VOKCDF1frhY"
      },
      "execution_count": 397,
      "outputs": []
    },
    {
      "cell_type": "markdown",
      "source": [
        "Média de 8"
      ],
      "metadata": {
        "id": "3I1_6a24133j"
      }
    },
    {
      "cell_type": "code",
      "source": [
        "#dataset['MA8'] = dataset['Preço'].rolling(8).mean()"
      ],
      "metadata": {
        "id": "rtiyHU6TaCsH"
      },
      "execution_count": null,
      "outputs": []
    },
    {
      "cell_type": "code",
      "source": [
        "dataset"
      ],
      "metadata": {
        "colab": {
          "base_uri": "https://localhost:8080/",
          "height": 424
        },
        "id": "WlYXA9SiUC6O",
        "outputId": "19cd2738-e177-4889-a418-bd77b708b693"
      },
      "execution_count": 398,
      "outputs": [
        {
          "output_type": "execute_result",
          "data": {
            "text/plain": [
              "           Data    Preço   Máxima   Mínima  Fear\n",
              "0    2022-06-24  21089.9  21172.0  20944.0   9.0\n",
              "1    2022-06-23  21074.0  21179.0  19855.0   6.0\n",
              "2    2022-06-22  19944.0  20848.0  19730.0   6.0\n",
              "3    2022-06-21  20694.0  21675.0  20327.0   9.0\n",
              "4    2022-06-20  20549.1  21039.0  19626.0   7.0\n",
              "...         ...      ...      ...      ...   ...\n",
              "3361 2013-04-04    132.9    143.0    119.0   NaN\n",
              "3362 2013-04-03    134.7    146.9    101.5   NaN\n",
              "3363 2013-04-02    118.2    118.4     99.0   NaN\n",
              "3364 2013-04-01    104.0    105.9     92.5   NaN\n",
              "3365 2013-03-31     93.0     93.7     91.0   NaN\n",
              "\n",
              "[3366 rows x 5 columns]"
            ],
            "text/html": [
              "\n",
              "  <div id=\"df-74b4796c-e568-42e2-8e22-b443a9ad6475\">\n",
              "    <div class=\"colab-df-container\">\n",
              "      <div>\n",
              "<style scoped>\n",
              "    .dataframe tbody tr th:only-of-type {\n",
              "        vertical-align: middle;\n",
              "    }\n",
              "\n",
              "    .dataframe tbody tr th {\n",
              "        vertical-align: top;\n",
              "    }\n",
              "\n",
              "    .dataframe thead th {\n",
              "        text-align: right;\n",
              "    }\n",
              "</style>\n",
              "<table border=\"1\" class=\"dataframe\">\n",
              "  <thead>\n",
              "    <tr style=\"text-align: right;\">\n",
              "      <th></th>\n",
              "      <th>Data</th>\n",
              "      <th>Preço</th>\n",
              "      <th>Máxima</th>\n",
              "      <th>Mínima</th>\n",
              "      <th>Fear</th>\n",
              "    </tr>\n",
              "  </thead>\n",
              "  <tbody>\n",
              "    <tr>\n",
              "      <th>0</th>\n",
              "      <td>2022-06-24</td>\n",
              "      <td>21089.9</td>\n",
              "      <td>21172.0</td>\n",
              "      <td>20944.0</td>\n",
              "      <td>9.0</td>\n",
              "    </tr>\n",
              "    <tr>\n",
              "      <th>1</th>\n",
              "      <td>2022-06-23</td>\n",
              "      <td>21074.0</td>\n",
              "      <td>21179.0</td>\n",
              "      <td>19855.0</td>\n",
              "      <td>6.0</td>\n",
              "    </tr>\n",
              "    <tr>\n",
              "      <th>2</th>\n",
              "      <td>2022-06-22</td>\n",
              "      <td>19944.0</td>\n",
              "      <td>20848.0</td>\n",
              "      <td>19730.0</td>\n",
              "      <td>6.0</td>\n",
              "    </tr>\n",
              "    <tr>\n",
              "      <th>3</th>\n",
              "      <td>2022-06-21</td>\n",
              "      <td>20694.0</td>\n",
              "      <td>21675.0</td>\n",
              "      <td>20327.0</td>\n",
              "      <td>9.0</td>\n",
              "    </tr>\n",
              "    <tr>\n",
              "      <th>4</th>\n",
              "      <td>2022-06-20</td>\n",
              "      <td>20549.1</td>\n",
              "      <td>21039.0</td>\n",
              "      <td>19626.0</td>\n",
              "      <td>7.0</td>\n",
              "    </tr>\n",
              "    <tr>\n",
              "      <th>...</th>\n",
              "      <td>...</td>\n",
              "      <td>...</td>\n",
              "      <td>...</td>\n",
              "      <td>...</td>\n",
              "      <td>...</td>\n",
              "    </tr>\n",
              "    <tr>\n",
              "      <th>3361</th>\n",
              "      <td>2013-04-04</td>\n",
              "      <td>132.9</td>\n",
              "      <td>143.0</td>\n",
              "      <td>119.0</td>\n",
              "      <td>NaN</td>\n",
              "    </tr>\n",
              "    <tr>\n",
              "      <th>3362</th>\n",
              "      <td>2013-04-03</td>\n",
              "      <td>134.7</td>\n",
              "      <td>146.9</td>\n",
              "      <td>101.5</td>\n",
              "      <td>NaN</td>\n",
              "    </tr>\n",
              "    <tr>\n",
              "      <th>3363</th>\n",
              "      <td>2013-04-02</td>\n",
              "      <td>118.2</td>\n",
              "      <td>118.4</td>\n",
              "      <td>99.0</td>\n",
              "      <td>NaN</td>\n",
              "    </tr>\n",
              "    <tr>\n",
              "      <th>3364</th>\n",
              "      <td>2013-04-01</td>\n",
              "      <td>104.0</td>\n",
              "      <td>105.9</td>\n",
              "      <td>92.5</td>\n",
              "      <td>NaN</td>\n",
              "    </tr>\n",
              "    <tr>\n",
              "      <th>3365</th>\n",
              "      <td>2013-03-31</td>\n",
              "      <td>93.0</td>\n",
              "      <td>93.7</td>\n",
              "      <td>91.0</td>\n",
              "      <td>NaN</td>\n",
              "    </tr>\n",
              "  </tbody>\n",
              "</table>\n",
              "<p>3366 rows × 5 columns</p>\n",
              "</div>\n",
              "      <button class=\"colab-df-convert\" onclick=\"convertToInteractive('df-74b4796c-e568-42e2-8e22-b443a9ad6475')\"\n",
              "              title=\"Convert this dataframe to an interactive table.\"\n",
              "              style=\"display:none;\">\n",
              "        \n",
              "  <svg xmlns=\"http://www.w3.org/2000/svg\" height=\"24px\"viewBox=\"0 0 24 24\"\n",
              "       width=\"24px\">\n",
              "    <path d=\"M0 0h24v24H0V0z\" fill=\"none\"/>\n",
              "    <path d=\"M18.56 5.44l.94 2.06.94-2.06 2.06-.94-2.06-.94-.94-2.06-.94 2.06-2.06.94zm-11 1L8.5 8.5l.94-2.06 2.06-.94-2.06-.94L8.5 2.5l-.94 2.06-2.06.94zm10 10l.94 2.06.94-2.06 2.06-.94-2.06-.94-.94-2.06-.94 2.06-2.06.94z\"/><path d=\"M17.41 7.96l-1.37-1.37c-.4-.4-.92-.59-1.43-.59-.52 0-1.04.2-1.43.59L10.3 9.45l-7.72 7.72c-.78.78-.78 2.05 0 2.83L4 21.41c.39.39.9.59 1.41.59.51 0 1.02-.2 1.41-.59l7.78-7.78 2.81-2.81c.8-.78.8-2.07 0-2.86zM5.41 20L4 18.59l7.72-7.72 1.47 1.35L5.41 20z\"/>\n",
              "  </svg>\n",
              "      </button>\n",
              "      \n",
              "  <style>\n",
              "    .colab-df-container {\n",
              "      display:flex;\n",
              "      flex-wrap:wrap;\n",
              "      gap: 12px;\n",
              "    }\n",
              "\n",
              "    .colab-df-convert {\n",
              "      background-color: #E8F0FE;\n",
              "      border: none;\n",
              "      border-radius: 50%;\n",
              "      cursor: pointer;\n",
              "      display: none;\n",
              "      fill: #1967D2;\n",
              "      height: 32px;\n",
              "      padding: 0 0 0 0;\n",
              "      width: 32px;\n",
              "    }\n",
              "\n",
              "    .colab-df-convert:hover {\n",
              "      background-color: #E2EBFA;\n",
              "      box-shadow: 0px 1px 2px rgba(60, 64, 67, 0.3), 0px 1px 3px 1px rgba(60, 64, 67, 0.15);\n",
              "      fill: #174EA6;\n",
              "    }\n",
              "\n",
              "    [theme=dark] .colab-df-convert {\n",
              "      background-color: #3B4455;\n",
              "      fill: #D2E3FC;\n",
              "    }\n",
              "\n",
              "    [theme=dark] .colab-df-convert:hover {\n",
              "      background-color: #434B5C;\n",
              "      box-shadow: 0px 1px 3px 1px rgba(0, 0, 0, 0.15);\n",
              "      filter: drop-shadow(0px 1px 2px rgba(0, 0, 0, 0.3));\n",
              "      fill: #FFFFFF;\n",
              "    }\n",
              "  </style>\n",
              "\n",
              "      <script>\n",
              "        const buttonEl =\n",
              "          document.querySelector('#df-74b4796c-e568-42e2-8e22-b443a9ad6475 button.colab-df-convert');\n",
              "        buttonEl.style.display =\n",
              "          google.colab.kernel.accessAllowed ? 'block' : 'none';\n",
              "\n",
              "        async function convertToInteractive(key) {\n",
              "          const element = document.querySelector('#df-74b4796c-e568-42e2-8e22-b443a9ad6475');\n",
              "          const dataTable =\n",
              "            await google.colab.kernel.invokeFunction('convertToInteractive',\n",
              "                                                     [key], {});\n",
              "          if (!dataTable) return;\n",
              "\n",
              "          const docLinkHtml = 'Like what you see? Visit the ' +\n",
              "            '<a target=\"_blank\" href=https://colab.research.google.com/notebooks/data_table.ipynb>data table notebook</a>'\n",
              "            + ' to learn more about interactive tables.';\n",
              "          element.innerHTML = '';\n",
              "          dataTable['output_type'] = 'display_data';\n",
              "          await google.colab.output.renderOutput(dataTable, element);\n",
              "          const docLink = document.createElement('div');\n",
              "          docLink.innerHTML = docLinkHtml;\n",
              "          element.appendChild(docLink);\n",
              "        }\n",
              "      </script>\n",
              "    </div>\n",
              "  </div>\n",
              "  "
            ]
          },
          "metadata": {},
          "execution_count": 398
        }
      ]
    },
    {
      "cell_type": "markdown",
      "source": [
        "Reduz o dataset para o tamaho do Fear & Greed Index"
      ],
      "metadata": {
        "id": "ngNswjYz2Ana"
      }
    },
    {
      "cell_type": "code",
      "source": [
        "new_data = dataset.iloc[:1601,:]"
      ],
      "metadata": {
        "id": "vjMcGPTMeF8h"
      },
      "execution_count": 399,
      "outputs": []
    },
    {
      "cell_type": "markdown",
      "source": [
        "Reordena por data"
      ],
      "metadata": {
        "id": "ZqKcAqQE332J"
      }
    },
    {
      "cell_type": "code",
      "source": [
        "new_data = new_data.sort_values(by='Data')"
      ],
      "metadata": {
        "id": "IPyUxxCYZLjI"
      },
      "execution_count": 400,
      "outputs": []
    },
    {
      "cell_type": "markdown",
      "source": [
        "Muda o formato da data"
      ],
      "metadata": {
        "id": "5q0sug054ANb"
      }
    },
    {
      "cell_type": "code",
      "source": [
        "new_data['Data'] = pd.to_datetime(new_data['Data']).dt.strftime('%d.%m.%Y')"
      ],
      "metadata": {
        "id": "mCuJjpH7b-rD"
      },
      "execution_count": 401,
      "outputs": []
    },
    {
      "cell_type": "code",
      "source": [
        "new_data"
      ],
      "metadata": {
        "colab": {
          "base_uri": "https://localhost:8080/",
          "height": 424
        },
        "id": "U08iNp3-eQzD",
        "outputId": "cf6f3b5b-294b-4824-d7cb-3b2dd5f062f4"
      },
      "execution_count": 402,
      "outputs": [
        {
          "output_type": "execute_result",
          "data": {
            "text/plain": [
              "            Data    Preço   Máxima   Mínima  Fear\n",
              "1600  05.02.2018   6946.6   8380.0   6651.0  30.0\n",
              "1599  06.02.2018   7678.8   7880.0   6000.0  15.0\n",
              "1598  07.02.2018   7586.9   8488.9   7175.1  40.0\n",
              "1597  08.02.2018   8239.7   8648.9   7565.0  24.0\n",
              "1596  09.02.2018   8678.1   8750.0   7724.9  11.0\n",
              "...          ...      ...      ...      ...   ...\n",
              "4     20.06.2022  20549.1  21039.0  19626.0   7.0\n",
              "3     21.06.2022  20694.0  21675.0  20327.0   9.0\n",
              "2     22.06.2022  19944.0  20848.0  19730.0   6.0\n",
              "1     23.06.2022  21074.0  21179.0  19855.0   6.0\n",
              "0     24.06.2022  21089.9  21172.0  20944.0   9.0\n",
              "\n",
              "[1601 rows x 5 columns]"
            ],
            "text/html": [
              "\n",
              "  <div id=\"df-ceaa5dfc-140c-4b3a-980d-0d0668e7f37e\">\n",
              "    <div class=\"colab-df-container\">\n",
              "      <div>\n",
              "<style scoped>\n",
              "    .dataframe tbody tr th:only-of-type {\n",
              "        vertical-align: middle;\n",
              "    }\n",
              "\n",
              "    .dataframe tbody tr th {\n",
              "        vertical-align: top;\n",
              "    }\n",
              "\n",
              "    .dataframe thead th {\n",
              "        text-align: right;\n",
              "    }\n",
              "</style>\n",
              "<table border=\"1\" class=\"dataframe\">\n",
              "  <thead>\n",
              "    <tr style=\"text-align: right;\">\n",
              "      <th></th>\n",
              "      <th>Data</th>\n",
              "      <th>Preço</th>\n",
              "      <th>Máxima</th>\n",
              "      <th>Mínima</th>\n",
              "      <th>Fear</th>\n",
              "    </tr>\n",
              "  </thead>\n",
              "  <tbody>\n",
              "    <tr>\n",
              "      <th>1600</th>\n",
              "      <td>05.02.2018</td>\n",
              "      <td>6946.6</td>\n",
              "      <td>8380.0</td>\n",
              "      <td>6651.0</td>\n",
              "      <td>30.0</td>\n",
              "    </tr>\n",
              "    <tr>\n",
              "      <th>1599</th>\n",
              "      <td>06.02.2018</td>\n",
              "      <td>7678.8</td>\n",
              "      <td>7880.0</td>\n",
              "      <td>6000.0</td>\n",
              "      <td>15.0</td>\n",
              "    </tr>\n",
              "    <tr>\n",
              "      <th>1598</th>\n",
              "      <td>07.02.2018</td>\n",
              "      <td>7586.9</td>\n",
              "      <td>8488.9</td>\n",
              "      <td>7175.1</td>\n",
              "      <td>40.0</td>\n",
              "    </tr>\n",
              "    <tr>\n",
              "      <th>1597</th>\n",
              "      <td>08.02.2018</td>\n",
              "      <td>8239.7</td>\n",
              "      <td>8648.9</td>\n",
              "      <td>7565.0</td>\n",
              "      <td>24.0</td>\n",
              "    </tr>\n",
              "    <tr>\n",
              "      <th>1596</th>\n",
              "      <td>09.02.2018</td>\n",
              "      <td>8678.1</td>\n",
              "      <td>8750.0</td>\n",
              "      <td>7724.9</td>\n",
              "      <td>11.0</td>\n",
              "    </tr>\n",
              "    <tr>\n",
              "      <th>...</th>\n",
              "      <td>...</td>\n",
              "      <td>...</td>\n",
              "      <td>...</td>\n",
              "      <td>...</td>\n",
              "      <td>...</td>\n",
              "    </tr>\n",
              "    <tr>\n",
              "      <th>4</th>\n",
              "      <td>20.06.2022</td>\n",
              "      <td>20549.1</td>\n",
              "      <td>21039.0</td>\n",
              "      <td>19626.0</td>\n",
              "      <td>7.0</td>\n",
              "    </tr>\n",
              "    <tr>\n",
              "      <th>3</th>\n",
              "      <td>21.06.2022</td>\n",
              "      <td>20694.0</td>\n",
              "      <td>21675.0</td>\n",
              "      <td>20327.0</td>\n",
              "      <td>9.0</td>\n",
              "    </tr>\n",
              "    <tr>\n",
              "      <th>2</th>\n",
              "      <td>22.06.2022</td>\n",
              "      <td>19944.0</td>\n",
              "      <td>20848.0</td>\n",
              "      <td>19730.0</td>\n",
              "      <td>6.0</td>\n",
              "    </tr>\n",
              "    <tr>\n",
              "      <th>1</th>\n",
              "      <td>23.06.2022</td>\n",
              "      <td>21074.0</td>\n",
              "      <td>21179.0</td>\n",
              "      <td>19855.0</td>\n",
              "      <td>6.0</td>\n",
              "    </tr>\n",
              "    <tr>\n",
              "      <th>0</th>\n",
              "      <td>24.06.2022</td>\n",
              "      <td>21089.9</td>\n",
              "      <td>21172.0</td>\n",
              "      <td>20944.0</td>\n",
              "      <td>9.0</td>\n",
              "    </tr>\n",
              "  </tbody>\n",
              "</table>\n",
              "<p>1601 rows × 5 columns</p>\n",
              "</div>\n",
              "      <button class=\"colab-df-convert\" onclick=\"convertToInteractive('df-ceaa5dfc-140c-4b3a-980d-0d0668e7f37e')\"\n",
              "              title=\"Convert this dataframe to an interactive table.\"\n",
              "              style=\"display:none;\">\n",
              "        \n",
              "  <svg xmlns=\"http://www.w3.org/2000/svg\" height=\"24px\"viewBox=\"0 0 24 24\"\n",
              "       width=\"24px\">\n",
              "    <path d=\"M0 0h24v24H0V0z\" fill=\"none\"/>\n",
              "    <path d=\"M18.56 5.44l.94 2.06.94-2.06 2.06-.94-2.06-.94-.94-2.06-.94 2.06-2.06.94zm-11 1L8.5 8.5l.94-2.06 2.06-.94-2.06-.94L8.5 2.5l-.94 2.06-2.06.94zm10 10l.94 2.06.94-2.06 2.06-.94-2.06-.94-.94-2.06-.94 2.06-2.06.94z\"/><path d=\"M17.41 7.96l-1.37-1.37c-.4-.4-.92-.59-1.43-.59-.52 0-1.04.2-1.43.59L10.3 9.45l-7.72 7.72c-.78.78-.78 2.05 0 2.83L4 21.41c.39.39.9.59 1.41.59.51 0 1.02-.2 1.41-.59l7.78-7.78 2.81-2.81c.8-.78.8-2.07 0-2.86zM5.41 20L4 18.59l7.72-7.72 1.47 1.35L5.41 20z\"/>\n",
              "  </svg>\n",
              "      </button>\n",
              "      \n",
              "  <style>\n",
              "    .colab-df-container {\n",
              "      display:flex;\n",
              "      flex-wrap:wrap;\n",
              "      gap: 12px;\n",
              "    }\n",
              "\n",
              "    .colab-df-convert {\n",
              "      background-color: #E8F0FE;\n",
              "      border: none;\n",
              "      border-radius: 50%;\n",
              "      cursor: pointer;\n",
              "      display: none;\n",
              "      fill: #1967D2;\n",
              "      height: 32px;\n",
              "      padding: 0 0 0 0;\n",
              "      width: 32px;\n",
              "    }\n",
              "\n",
              "    .colab-df-convert:hover {\n",
              "      background-color: #E2EBFA;\n",
              "      box-shadow: 0px 1px 2px rgba(60, 64, 67, 0.3), 0px 1px 3px 1px rgba(60, 64, 67, 0.15);\n",
              "      fill: #174EA6;\n",
              "    }\n",
              "\n",
              "    [theme=dark] .colab-df-convert {\n",
              "      background-color: #3B4455;\n",
              "      fill: #D2E3FC;\n",
              "    }\n",
              "\n",
              "    [theme=dark] .colab-df-convert:hover {\n",
              "      background-color: #434B5C;\n",
              "      box-shadow: 0px 1px 3px 1px rgba(0, 0, 0, 0.15);\n",
              "      filter: drop-shadow(0px 1px 2px rgba(0, 0, 0, 0.3));\n",
              "      fill: #FFFFFF;\n",
              "    }\n",
              "  </style>\n",
              "\n",
              "      <script>\n",
              "        const buttonEl =\n",
              "          document.querySelector('#df-ceaa5dfc-140c-4b3a-980d-0d0668e7f37e button.colab-df-convert');\n",
              "        buttonEl.style.display =\n",
              "          google.colab.kernel.accessAllowed ? 'block' : 'none';\n",
              "\n",
              "        async function convertToInteractive(key) {\n",
              "          const element = document.querySelector('#df-ceaa5dfc-140c-4b3a-980d-0d0668e7f37e');\n",
              "          const dataTable =\n",
              "            await google.colab.kernel.invokeFunction('convertToInteractive',\n",
              "                                                     [key], {});\n",
              "          if (!dataTable) return;\n",
              "\n",
              "          const docLinkHtml = 'Like what you see? Visit the ' +\n",
              "            '<a target=\"_blank\" href=https://colab.research.google.com/notebooks/data_table.ipynb>data table notebook</a>'\n",
              "            + ' to learn more about interactive tables.';\n",
              "          element.innerHTML = '';\n",
              "          dataTable['output_type'] = 'display_data';\n",
              "          await google.colab.output.renderOutput(dataTable, element);\n",
              "          const docLink = document.createElement('div');\n",
              "          docLink.innerHTML = docLinkHtml;\n",
              "          element.appendChild(docLink);\n",
              "        }\n",
              "      </script>\n",
              "    </div>\n",
              "  </div>\n",
              "  "
            ]
          },
          "metadata": {},
          "execution_count": 402
        }
      ]
    },
    {
      "cell_type": "markdown",
      "source": [
        "Cria um cabeçalho para gravação dos dados"
      ],
      "metadata": {
        "id": "fNCpGan6QZH4"
      }
    },
    {
      "cell_type": "code",
      "source": [
        "header = ['Data', 'Preço', 'Máxima', 'Mínima', 'Fear']"
      ],
      "metadata": {
        "id": "x-Eka8nn_YaM"
      },
      "execution_count": 403,
      "outputs": []
    },
    {
      "cell_type": "markdown",
      "source": [
        "Grava os dados no formato csv"
      ],
      "metadata": {
        "id": "GLpEBPQFQd82"
      }
    },
    {
      "cell_type": "code",
      "source": [
        "new_data.to_csv(\"BTCUSD_Bitfinex.csv\", columns=header, index=False)"
      ],
      "metadata": {
        "id": "DuAgemPx_Pwd"
      },
      "execution_count": 405,
      "outputs": []
    },
    {
      "cell_type": "code",
      "source": [
        "new_data_train = new_data.iloc[:1201,:]"
      ],
      "metadata": {
        "id": "5q92W7pl0Mp8"
      },
      "execution_count": 406,
      "outputs": []
    },
    {
      "cell_type": "code",
      "source": [
        "new_data_train.to_csv(\"BTCUSD_train2.csv\", columns=header, index=False)"
      ],
      "metadata": {
        "id": "82k2DLx70A-s"
      },
      "execution_count": 407,
      "outputs": []
    },
    {
      "cell_type": "code",
      "source": [
        "new_data_test = new_data.iloc[1201:,:]"
      ],
      "metadata": {
        "id": "aPPzxjPX0ba1"
      },
      "execution_count": 408,
      "outputs": []
    },
    {
      "cell_type": "code",
      "source": [
        "new_data_test.to_csv(\"BTCUSD_test2.csv\", columns=header, index=False)"
      ],
      "metadata": {
        "id": "L0YWwdz30bjr"
      },
      "execution_count": 409,
      "outputs": []
    },
    {
      "cell_type": "code",
      "source": [
        "data_training = pd.read_csv('BTCUSD_train2.csv')"
      ],
      "metadata": {
        "id": "RWyJ91rQHD1M"
      },
      "execution_count": 410,
      "outputs": []
    },
    {
      "cell_type": "code",
      "source": [
        "data_training"
      ],
      "metadata": {
        "id": "mYFqSlzFIZWN",
        "colab": {
          "base_uri": "https://localhost:8080/",
          "height": 424
        },
        "outputId": "64c2010f-0daf-4110-ad8e-06671cfa0d1f"
      },
      "execution_count": 411,
      "outputs": [
        {
          "output_type": "execute_result",
          "data": {
            "text/plain": [
              "            Data    Preço   Máxima   Mínima  Fear\n",
              "0     05.02.2018   6946.6   8380.0   6651.0  30.0\n",
              "1     06.02.2018   7678.8   7880.0   6000.0  15.0\n",
              "2     07.02.2018   7586.9   8488.9   7175.1  40.0\n",
              "3     08.02.2018   8239.7   8648.9   7565.0  24.0\n",
              "4     09.02.2018   8678.1   8750.0   7724.9  11.0\n",
              "...          ...      ...      ...      ...   ...\n",
              "1196  16.05.2021  46597.0  49870.0  44021.0  68.0\n",
              "1197  17.05.2021  43534.0  46796.0  42128.0  31.0\n",
              "1198  18.05.2021  42900.0  45800.0  42316.0  26.0\n",
              "1199  19.05.2021  36733.0  43600.0  29563.0  27.0\n",
              "1200  20.05.2021  40561.5  42300.0  34985.0  20.0\n",
              "\n",
              "[1201 rows x 5 columns]"
            ],
            "text/html": [
              "\n",
              "  <div id=\"df-bfed115c-0af1-4040-a824-269ca7794c1f\">\n",
              "    <div class=\"colab-df-container\">\n",
              "      <div>\n",
              "<style scoped>\n",
              "    .dataframe tbody tr th:only-of-type {\n",
              "        vertical-align: middle;\n",
              "    }\n",
              "\n",
              "    .dataframe tbody tr th {\n",
              "        vertical-align: top;\n",
              "    }\n",
              "\n",
              "    .dataframe thead th {\n",
              "        text-align: right;\n",
              "    }\n",
              "</style>\n",
              "<table border=\"1\" class=\"dataframe\">\n",
              "  <thead>\n",
              "    <tr style=\"text-align: right;\">\n",
              "      <th></th>\n",
              "      <th>Data</th>\n",
              "      <th>Preço</th>\n",
              "      <th>Máxima</th>\n",
              "      <th>Mínima</th>\n",
              "      <th>Fear</th>\n",
              "    </tr>\n",
              "  </thead>\n",
              "  <tbody>\n",
              "    <tr>\n",
              "      <th>0</th>\n",
              "      <td>05.02.2018</td>\n",
              "      <td>6946.6</td>\n",
              "      <td>8380.0</td>\n",
              "      <td>6651.0</td>\n",
              "      <td>30.0</td>\n",
              "    </tr>\n",
              "    <tr>\n",
              "      <th>1</th>\n",
              "      <td>06.02.2018</td>\n",
              "      <td>7678.8</td>\n",
              "      <td>7880.0</td>\n",
              "      <td>6000.0</td>\n",
              "      <td>15.0</td>\n",
              "    </tr>\n",
              "    <tr>\n",
              "      <th>2</th>\n",
              "      <td>07.02.2018</td>\n",
              "      <td>7586.9</td>\n",
              "      <td>8488.9</td>\n",
              "      <td>7175.1</td>\n",
              "      <td>40.0</td>\n",
              "    </tr>\n",
              "    <tr>\n",
              "      <th>3</th>\n",
              "      <td>08.02.2018</td>\n",
              "      <td>8239.7</td>\n",
              "      <td>8648.9</td>\n",
              "      <td>7565.0</td>\n",
              "      <td>24.0</td>\n",
              "    </tr>\n",
              "    <tr>\n",
              "      <th>4</th>\n",
              "      <td>09.02.2018</td>\n",
              "      <td>8678.1</td>\n",
              "      <td>8750.0</td>\n",
              "      <td>7724.9</td>\n",
              "      <td>11.0</td>\n",
              "    </tr>\n",
              "    <tr>\n",
              "      <th>...</th>\n",
              "      <td>...</td>\n",
              "      <td>...</td>\n",
              "      <td>...</td>\n",
              "      <td>...</td>\n",
              "      <td>...</td>\n",
              "    </tr>\n",
              "    <tr>\n",
              "      <th>1196</th>\n",
              "      <td>16.05.2021</td>\n",
              "      <td>46597.0</td>\n",
              "      <td>49870.0</td>\n",
              "      <td>44021.0</td>\n",
              "      <td>68.0</td>\n",
              "    </tr>\n",
              "    <tr>\n",
              "      <th>1197</th>\n",
              "      <td>17.05.2021</td>\n",
              "      <td>43534.0</td>\n",
              "      <td>46796.0</td>\n",
              "      <td>42128.0</td>\n",
              "      <td>31.0</td>\n",
              "    </tr>\n",
              "    <tr>\n",
              "      <th>1198</th>\n",
              "      <td>18.05.2021</td>\n",
              "      <td>42900.0</td>\n",
              "      <td>45800.0</td>\n",
              "      <td>42316.0</td>\n",
              "      <td>26.0</td>\n",
              "    </tr>\n",
              "    <tr>\n",
              "      <th>1199</th>\n",
              "      <td>19.05.2021</td>\n",
              "      <td>36733.0</td>\n",
              "      <td>43600.0</td>\n",
              "      <td>29563.0</td>\n",
              "      <td>27.0</td>\n",
              "    </tr>\n",
              "    <tr>\n",
              "      <th>1200</th>\n",
              "      <td>20.05.2021</td>\n",
              "      <td>40561.5</td>\n",
              "      <td>42300.0</td>\n",
              "      <td>34985.0</td>\n",
              "      <td>20.0</td>\n",
              "    </tr>\n",
              "  </tbody>\n",
              "</table>\n",
              "<p>1201 rows × 5 columns</p>\n",
              "</div>\n",
              "      <button class=\"colab-df-convert\" onclick=\"convertToInteractive('df-bfed115c-0af1-4040-a824-269ca7794c1f')\"\n",
              "              title=\"Convert this dataframe to an interactive table.\"\n",
              "              style=\"display:none;\">\n",
              "        \n",
              "  <svg xmlns=\"http://www.w3.org/2000/svg\" height=\"24px\"viewBox=\"0 0 24 24\"\n",
              "       width=\"24px\">\n",
              "    <path d=\"M0 0h24v24H0V0z\" fill=\"none\"/>\n",
              "    <path d=\"M18.56 5.44l.94 2.06.94-2.06 2.06-.94-2.06-.94-.94-2.06-.94 2.06-2.06.94zm-11 1L8.5 8.5l.94-2.06 2.06-.94-2.06-.94L8.5 2.5l-.94 2.06-2.06.94zm10 10l.94 2.06.94-2.06 2.06-.94-2.06-.94-.94-2.06-.94 2.06-2.06.94z\"/><path d=\"M17.41 7.96l-1.37-1.37c-.4-.4-.92-.59-1.43-.59-.52 0-1.04.2-1.43.59L10.3 9.45l-7.72 7.72c-.78.78-.78 2.05 0 2.83L4 21.41c.39.39.9.59 1.41.59.51 0 1.02-.2 1.41-.59l7.78-7.78 2.81-2.81c.8-.78.8-2.07 0-2.86zM5.41 20L4 18.59l7.72-7.72 1.47 1.35L5.41 20z\"/>\n",
              "  </svg>\n",
              "      </button>\n",
              "      \n",
              "  <style>\n",
              "    .colab-df-container {\n",
              "      display:flex;\n",
              "      flex-wrap:wrap;\n",
              "      gap: 12px;\n",
              "    }\n",
              "\n",
              "    .colab-df-convert {\n",
              "      background-color: #E8F0FE;\n",
              "      border: none;\n",
              "      border-radius: 50%;\n",
              "      cursor: pointer;\n",
              "      display: none;\n",
              "      fill: #1967D2;\n",
              "      height: 32px;\n",
              "      padding: 0 0 0 0;\n",
              "      width: 32px;\n",
              "    }\n",
              "\n",
              "    .colab-df-convert:hover {\n",
              "      background-color: #E2EBFA;\n",
              "      box-shadow: 0px 1px 2px rgba(60, 64, 67, 0.3), 0px 1px 3px 1px rgba(60, 64, 67, 0.15);\n",
              "      fill: #174EA6;\n",
              "    }\n",
              "\n",
              "    [theme=dark] .colab-df-convert {\n",
              "      background-color: #3B4455;\n",
              "      fill: #D2E3FC;\n",
              "    }\n",
              "\n",
              "    [theme=dark] .colab-df-convert:hover {\n",
              "      background-color: #434B5C;\n",
              "      box-shadow: 0px 1px 3px 1px rgba(0, 0, 0, 0.15);\n",
              "      filter: drop-shadow(0px 1px 2px rgba(0, 0, 0, 0.3));\n",
              "      fill: #FFFFFF;\n",
              "    }\n",
              "  </style>\n",
              "\n",
              "      <script>\n",
              "        const buttonEl =\n",
              "          document.querySelector('#df-bfed115c-0af1-4040-a824-269ca7794c1f button.colab-df-convert');\n",
              "        buttonEl.style.display =\n",
              "          google.colab.kernel.accessAllowed ? 'block' : 'none';\n",
              "\n",
              "        async function convertToInteractive(key) {\n",
              "          const element = document.querySelector('#df-bfed115c-0af1-4040-a824-269ca7794c1f');\n",
              "          const dataTable =\n",
              "            await google.colab.kernel.invokeFunction('convertToInteractive',\n",
              "                                                     [key], {});\n",
              "          if (!dataTable) return;\n",
              "\n",
              "          const docLinkHtml = 'Like what you see? Visit the ' +\n",
              "            '<a target=\"_blank\" href=https://colab.research.google.com/notebooks/data_table.ipynb>data table notebook</a>'\n",
              "            + ' to learn more about interactive tables.';\n",
              "          element.innerHTML = '';\n",
              "          dataTable['output_type'] = 'display_data';\n",
              "          await google.colab.output.renderOutput(dataTable, element);\n",
              "          const docLink = document.createElement('div');\n",
              "          docLink.innerHTML = docLinkHtml;\n",
              "          element.appendChild(docLink);\n",
              "        }\n",
              "      </script>\n",
              "    </div>\n",
              "  </div>\n",
              "  "
            ]
          },
          "metadata": {},
          "execution_count": 411
        }
      ]
    },
    {
      "cell_type": "code",
      "source": [
        "training_data = data_training.drop(['Data'], axis = 1)"
      ],
      "metadata": {
        "id": "Appm0Nz8HWV0"
      },
      "execution_count": 412,
      "outputs": []
    },
    {
      "cell_type": "markdown",
      "source": [
        "Normaliza dados"
      ],
      "metadata": {
        "id": "PewgKgvER_wm"
      }
    },
    {
      "cell_type": "code",
      "source": [
        "scaler = MinMaxScaler(feature_range = (0, 1)) # Usado para todos os dados que serão normalizados, dados de treino e dados de teste"
      ],
      "metadata": {
        "id": "NPbfFhBGh0Uy"
      },
      "execution_count": 413,
      "outputs": []
    },
    {
      "cell_type": "code",
      "source": [
        "training_data_N = scaler.fit_transform(training_data)\n"
      ],
      "metadata": {
        "id": "u_icVPgAhb5D"
      },
      "execution_count": 414,
      "outputs": []
    },
    {
      "cell_type": "code",
      "source": [
        "training_data_N"
      ],
      "metadata": {
        "colab": {
          "base_uri": "https://localhost:8080/"
        },
        "id": "v53S2nN8h9ft",
        "outputId": "34663987-1ffa-45c2-a4fb-0979422dee2a"
      },
      "execution_count": 415,
      "outputs": [
        {
          "output_type": "execute_result",
          "data": {
            "text/plain": [
              "array([[0.06082287, 0.08220171, 0.05844708, 0.27777778],\n",
              "       [0.07297449, 0.07407227, 0.04737279, 0.11111111],\n",
              "       [0.07144932, 0.08397231, 0.06736265, 0.38888889],\n",
              "       ...,\n",
              "       [0.65750731, 0.69060951, 0.66515154, 0.23333333],\n",
              "       [0.55515946, 0.65483995, 0.4482077 , 0.24444444],\n",
              "       [0.61869744, 0.63370339, 0.54044243, 0.16666667]])"
            ]
          },
          "metadata": {},
          "execution_count": 415
        }
      ]
    },
    {
      "cell_type": "markdown",
      "source": [
        "Guarda os dados esperados"
      ],
      "metadata": {
        "id": "l36AmOfvSkJO"
      }
    },
    {
      "cell_type": "code",
      "source": [
        "guard_data = training_data.columns.get_loc('Preço')\n",
        "Y_train = training_data_N[:, guard_data : guard_data + 1] # guarda os dados esperados em memória\n",
        "Y_train = Y_train[60 : , :] # Ignora os 60 primeiros dados"
      ],
      "metadata": {
        "id": "7LuZTpUrKkVM"
      },
      "execution_count": 416,
      "outputs": []
    },
    {
      "cell_type": "markdown",
      "source": [
        "X_train = dados_treino, Y_train = dados_esperados\n"
      ],
      "metadata": {
        "id": "euQeTHH7coWw"
      }
    },
    {
      "cell_type": "code",
      "source": [
        "Y_train"
      ],
      "metadata": {
        "colab": {
          "base_uri": "https://localhost:8080/"
        },
        "id": "GyQeTamzM9e2",
        "outputId": "bef72e6a-2123-471d-81f9-04c3b3d6def4"
      },
      "execution_count": 417,
      "outputs": [
        {
          "output_type": "execute_result",
          "data": {
            "text/plain": [
              "array([[0.05523663],\n",
              "       [0.05992668],\n",
              "       [0.06210574],\n",
              "       ...,\n",
              "       [0.65750731],\n",
              "       [0.55515946],\n",
              "       [0.61869744]])"
            ]
          },
          "metadata": {},
          "execution_count": 417
        }
      ]
    },
    {
      "cell_type": "markdown",
      "source": [
        "Agrupa os dados dos últimos 60 dias(histórico) antes de retornar os dados de treino e dados esperados para dar entrada na rede. Ao prever o valor de 1 dia a rede se baseia nos preços, máximas, mínimas e fear dos últimos 2 meses. "
      ],
      "metadata": {
        "id": "OnxrHEoUUOqM"
      }
    },
    {
      "cell_type": "code",
      "source": [
        "X_train = []\n",
        "for i in range(60, len(training_data_N)):\n",
        "  X_train.append(training_data_N[i - 60: i, :])\n",
        "\n",
        "X_train = np.array(X_train)\n",
        "Y_train = np.array(Y_train)"
      ],
      "metadata": {
        "id": "53d5fAFdNm-O"
      },
      "execution_count": 418,
      "outputs": []
    },
    {
      "cell_type": "code",
      "source": [
        "Y_train"
      ],
      "metadata": {
        "colab": {
          "base_uri": "https://localhost:8080/"
        },
        "id": "TRK8CHrWXCoA",
        "outputId": "63a3d3cf-9726-4915-e81c-f271e6c97765"
      },
      "execution_count": 419,
      "outputs": [
        {
          "output_type": "execute_result",
          "data": {
            "text/plain": [
              "array([[0.05523663],\n",
              "       [0.05992668],\n",
              "       [0.06210574],\n",
              "       ...,\n",
              "       [0.65750731],\n",
              "       [0.55515946],\n",
              "       [0.61869744]])"
            ]
          },
          "metadata": {},
          "execution_count": 419
        }
      ]
    },
    {
      "cell_type": "code",
      "source": [
        "X_train.shape"
      ],
      "metadata": {
        "colab": {
          "base_uri": "https://localhost:8080/"
        },
        "id": "WQYziSJGGeAt",
        "outputId": "927c053b-743f-4a33-c0a7-96ce7198eafe"
      },
      "execution_count": 420,
      "outputs": [
        {
          "output_type": "execute_result",
          "data": {
            "text/plain": [
              "(1141, 60, 4)"
            ]
          },
          "metadata": {},
          "execution_count": 420
        }
      ]
    },
    {
      "cell_type": "markdown",
      "source": [
        "Cria o modelo usando o framework keras"
      ],
      "metadata": {
        "id": "s4qPSzYQVj2E"
      }
    },
    {
      "cell_type": "code",
      "source": [
        "from keras.callbacks import EarlyStopping, ReduceLROnPlateau, ModelCheckpoint\n",
        "from keras.models import Sequential\n",
        "from keras.layers import Dense, LSTM, Dropout"
      ],
      "metadata": {
        "id": "fPFWAnOyZgVe"
      },
      "execution_count": 421,
      "outputs": []
    },
    {
      "cell_type": "code",
      "source": [
        "model = Sequential() # inicializa a rede neural\n",
        "model.add(LSTM(units=100, return_sequences=True, input_shape=(60, X_train.shape[2]))) # input_shape são as dimensões dos dados a serem treinados (60, 4)\n",
        "model.add(Dropout(0.3)) # Dropout evita overfitting, 30% dos neurônios são ignorados\n",
        "model.add(LSTM(units=50, return_sequences=True)) # return_sequences=True empilha as camadas de LTSM, fazendo com que a camada seguinte seja alimentada pela anterior\n",
        "model.add(Dropout(0.3))\n",
        "\n",
        "model.add(LSTM(units=50))\n",
        "model.add(Dropout(0.3))\n",
        "model.add(Dense(units=1)) # Dense centraliza as saídas numa só\n",
        "\n",
        "model.compile(optimizer='adam', loss='mean_squared_error')\n",
        "\n",
        "# callbacks do keras\n",
        "es = EarlyStopping(monitor='loss', min_delta=1e-10, patience=10, verbose=1) # interrompe o treinamento caso a função loss não diminua depois de determinadas épocas\n",
        "rlr = ReduceLROnPlateau(monitor='loss', factor=0.2, patience=5, verbose=1) # reduz o LearningRate\n",
        "mcp = ModelCheckpoint(filepath = 'pesos.h5', monitor='loss', save_best_only = True, verbose=1) # salva os melhores pesos da rede\n",
        "\n",
        "# Treina o modelo\n",
        "model.fit(X_train, Y_train, batch_size=32, callbacks=[es, rlr, mcp], epochs=20,  validation_split=0.1)\n"
      ],
      "metadata": {
        "colab": {
          "base_uri": "https://localhost:8080/"
        },
        "id": "vticjsSFdFHX",
        "outputId": "3eb951fe-dc56-4101-f23a-4ca1c0d91803"
      },
      "execution_count": 422,
      "outputs": [
        {
          "output_type": "stream",
          "name": "stdout",
          "text": [
            "Epoch 1/20\n",
            "33/33 [==============================] - ETA: 0s - loss: 0.0061\n",
            "Epoch 1: loss improved from inf to 0.00608, saving model to pesos.h5\n",
            "33/33 [==============================] - 12s 154ms/step - loss: 0.0061 - val_loss: 0.0093 - lr: 0.0010\n",
            "Epoch 2/20\n",
            "33/33 [==============================] - ETA: 0s - loss: 7.8474e-04\n",
            "Epoch 2: loss improved from 0.00608 to 0.00078, saving model to pesos.h5\n",
            "33/33 [==============================] - 4s 114ms/step - loss: 7.8474e-04 - val_loss: 0.0094 - lr: 0.0010\n",
            "Epoch 3/20\n",
            "33/33 [==============================] - ETA: 0s - loss: 9.9030e-04\n",
            "Epoch 3: loss did not improve from 0.00078\n",
            "33/33 [==============================] - 4s 118ms/step - loss: 9.9030e-04 - val_loss: 0.0266 - lr: 0.0010\n",
            "Epoch 4/20\n",
            "33/33 [==============================] - ETA: 0s - loss: 7.7649e-04\n",
            "Epoch 4: loss improved from 0.00078 to 0.00078, saving model to pesos.h5\n",
            "33/33 [==============================] - 4s 109ms/step - loss: 7.7649e-04 - val_loss: 0.0075 - lr: 0.0010\n",
            "Epoch 5/20\n",
            "33/33 [==============================] - ETA: 0s - loss: 8.2538e-04\n",
            "Epoch 5: loss did not improve from 0.00078\n",
            "33/33 [==============================] - 4s 107ms/step - loss: 8.2538e-04 - val_loss: 0.0245 - lr: 0.0010\n",
            "Epoch 6/20\n",
            "33/33 [==============================] - ETA: 0s - loss: 9.2538e-04\n",
            "Epoch 6: loss did not improve from 0.00078\n",
            "33/33 [==============================] - 4s 108ms/step - loss: 9.2538e-04 - val_loss: 0.0225 - lr: 0.0010\n",
            "Epoch 7/20\n",
            "33/33 [==============================] - ETA: 0s - loss: 9.8280e-04\n",
            "Epoch 7: ReduceLROnPlateau reducing learning rate to 0.00020000000949949026.\n",
            "\n",
            "Epoch 7: loss did not improve from 0.00078\n",
            "33/33 [==============================] - 4s 114ms/step - loss: 9.8280e-04 - val_loss: 0.0200 - lr: 0.0010\n",
            "Epoch 8/20\n",
            "33/33 [==============================] - ETA: 0s - loss: 8.3153e-04\n",
            "Epoch 8: loss did not improve from 0.00078\n",
            "33/33 [==============================] - 4s 108ms/step - loss: 8.3153e-04 - val_loss: 0.0180 - lr: 2.0000e-04\n",
            "Epoch 9/20\n",
            "33/33 [==============================] - ETA: 0s - loss: 7.0157e-04\n",
            "Epoch 9: loss improved from 0.00078 to 0.00070, saving model to pesos.h5\n",
            "33/33 [==============================] - 4s 111ms/step - loss: 7.0157e-04 - val_loss: 0.0129 - lr: 2.0000e-04\n",
            "Epoch 10/20\n",
            "33/33 [==============================] - ETA: 0s - loss: 7.1551e-04\n",
            "Epoch 10: loss did not improve from 0.00070\n",
            "33/33 [==============================] - 4s 110ms/step - loss: 7.1551e-04 - val_loss: 0.0135 - lr: 2.0000e-04\n",
            "Epoch 11/20\n",
            "33/33 [==============================] - ETA: 0s - loss: 5.8494e-04\n",
            "Epoch 11: loss improved from 0.00070 to 0.00058, saving model to pesos.h5\n",
            "33/33 [==============================] - 4s 108ms/step - loss: 5.8494e-04 - val_loss: 0.0158 - lr: 2.0000e-04\n",
            "Epoch 12/20\n",
            "33/33 [==============================] - ETA: 0s - loss: 5.8559e-04\n",
            "Epoch 12: loss did not improve from 0.00058\n",
            "33/33 [==============================] - 4s 115ms/step - loss: 5.8559e-04 - val_loss: 0.0144 - lr: 2.0000e-04\n",
            "Epoch 13/20\n",
            "33/33 [==============================] - ETA: 0s - loss: 5.5185e-04\n",
            "Epoch 13: loss improved from 0.00058 to 0.00055, saving model to pesos.h5\n",
            "33/33 [==============================] - 4s 109ms/step - loss: 5.5185e-04 - val_loss: 0.0124 - lr: 2.0000e-04\n",
            "Epoch 14/20\n",
            "33/33 [==============================] - ETA: 0s - loss: 5.7379e-04\n",
            "Epoch 14: loss did not improve from 0.00055\n",
            "33/33 [==============================] - 4s 108ms/step - loss: 5.7379e-04 - val_loss: 0.0145 - lr: 2.0000e-04\n",
            "Epoch 15/20\n",
            "33/33 [==============================] - ETA: 0s - loss: 4.9709e-04\n",
            "Epoch 15: loss improved from 0.00055 to 0.00050, saving model to pesos.h5\n",
            "33/33 [==============================] - 4s 116ms/step - loss: 4.9709e-04 - val_loss: 0.0221 - lr: 2.0000e-04\n",
            "Epoch 16/20\n",
            "33/33 [==============================] - ETA: 0s - loss: 5.6613e-04\n",
            "Epoch 16: ReduceLROnPlateau reducing learning rate to 4.0000001899898055e-05.\n",
            "\n",
            "Epoch 16: loss did not improve from 0.00050\n",
            "33/33 [==============================] - 4s 115ms/step - loss: 5.6613e-04 - val_loss: 0.0175 - lr: 2.0000e-04\n",
            "Epoch 17/20\n",
            "33/33 [==============================] - ETA: 0s - loss: 5.6093e-04\n",
            "Epoch 17: loss did not improve from 0.00050\n",
            "33/33 [==============================] - 4s 117ms/step - loss: 5.6093e-04 - val_loss: 0.0160 - lr: 4.0000e-05\n",
            "Epoch 18/20\n",
            "33/33 [==============================] - ETA: 0s - loss: 5.5104e-04\n",
            "Epoch 18: loss did not improve from 0.00050\n",
            "33/33 [==============================] - 4s 113ms/step - loss: 5.5104e-04 - val_loss: 0.0142 - lr: 4.0000e-05\n",
            "Epoch 19/20\n",
            "33/33 [==============================] - ETA: 0s - loss: 4.5605e-04\n",
            "Epoch 19: loss improved from 0.00050 to 0.00046, saving model to pesos.h5\n",
            "33/33 [==============================] - 4s 110ms/step - loss: 4.5605e-04 - val_loss: 0.0141 - lr: 4.0000e-05\n",
            "Epoch 20/20\n",
            "33/33 [==============================] - ETA: 0s - loss: 5.4690e-04\n",
            "Epoch 20: loss did not improve from 0.00046\n",
            "33/33 [==============================] - 4s 120ms/step - loss: 5.4690e-04 - val_loss: 0.0160 - lr: 4.0000e-05\n"
          ]
        },
        {
          "output_type": "execute_result",
          "data": {
            "text/plain": [
              "<keras.callbacks.History at 0x7f9f00131950>"
            ]
          },
          "metadata": {},
          "execution_count": 422
        }
      ]
    },
    {
      "cell_type": "code",
      "source": [
        "data_test = pd.read_csv('BTCUSD_test2.csv')"
      ],
      "metadata": {
        "id": "Cl0YYyLidI02"
      },
      "execution_count": 423,
      "outputs": []
    },
    {
      "cell_type": "code",
      "source": [
        "data_test"
      ],
      "metadata": {
        "colab": {
          "base_uri": "https://localhost:8080/",
          "height": 424
        },
        "id": "CcL76NBLtqmq",
        "outputId": "8bb76cdc-0451-4970-8929-4a07e595ee85"
      },
      "execution_count": 424,
      "outputs": [
        {
          "output_type": "execute_result",
          "data": {
            "text/plain": [
              "           Data    Preço   Máxima   Mínima  Fear\n",
              "0    21.05.2021  37391.4  42298.1  33552.0  27.0\n",
              "1    22.05.2021  37557.0  38956.0  35372.0  21.0\n",
              "2    23.05.2021  34747.0  38384.0  31230.0  23.0\n",
              "3    24.05.2021  38845.0  39966.0  34500.0  11.0\n",
              "4    25.05.2021  38396.8  39829.4  36455.0  19.0\n",
              "..          ...      ...      ...      ...   ...\n",
              "395  20.06.2022  20549.1  21039.0  19626.0   7.0\n",
              "396  21.06.2022  20694.0  21675.0  20327.0   9.0\n",
              "397  22.06.2022  19944.0  20848.0  19730.0   6.0\n",
              "398  23.06.2022  21074.0  21179.0  19855.0   6.0\n",
              "399  24.06.2022  21089.9  21172.0  20944.0   9.0\n",
              "\n",
              "[400 rows x 5 columns]"
            ],
            "text/html": [
              "\n",
              "  <div id=\"df-f62a3d25-15fa-4ace-b8a6-f36a6a007e2b\">\n",
              "    <div class=\"colab-df-container\">\n",
              "      <div>\n",
              "<style scoped>\n",
              "    .dataframe tbody tr th:only-of-type {\n",
              "        vertical-align: middle;\n",
              "    }\n",
              "\n",
              "    .dataframe tbody tr th {\n",
              "        vertical-align: top;\n",
              "    }\n",
              "\n",
              "    .dataframe thead th {\n",
              "        text-align: right;\n",
              "    }\n",
              "</style>\n",
              "<table border=\"1\" class=\"dataframe\">\n",
              "  <thead>\n",
              "    <tr style=\"text-align: right;\">\n",
              "      <th></th>\n",
              "      <th>Data</th>\n",
              "      <th>Preço</th>\n",
              "      <th>Máxima</th>\n",
              "      <th>Mínima</th>\n",
              "      <th>Fear</th>\n",
              "    </tr>\n",
              "  </thead>\n",
              "  <tbody>\n",
              "    <tr>\n",
              "      <th>0</th>\n",
              "      <td>21.05.2021</td>\n",
              "      <td>37391.4</td>\n",
              "      <td>42298.1</td>\n",
              "      <td>33552.0</td>\n",
              "      <td>27.0</td>\n",
              "    </tr>\n",
              "    <tr>\n",
              "      <th>1</th>\n",
              "      <td>22.05.2021</td>\n",
              "      <td>37557.0</td>\n",
              "      <td>38956.0</td>\n",
              "      <td>35372.0</td>\n",
              "      <td>21.0</td>\n",
              "    </tr>\n",
              "    <tr>\n",
              "      <th>2</th>\n",
              "      <td>23.05.2021</td>\n",
              "      <td>34747.0</td>\n",
              "      <td>38384.0</td>\n",
              "      <td>31230.0</td>\n",
              "      <td>23.0</td>\n",
              "    </tr>\n",
              "    <tr>\n",
              "      <th>3</th>\n",
              "      <td>24.05.2021</td>\n",
              "      <td>38845.0</td>\n",
              "      <td>39966.0</td>\n",
              "      <td>34500.0</td>\n",
              "      <td>11.0</td>\n",
              "    </tr>\n",
              "    <tr>\n",
              "      <th>4</th>\n",
              "      <td>25.05.2021</td>\n",
              "      <td>38396.8</td>\n",
              "      <td>39829.4</td>\n",
              "      <td>36455.0</td>\n",
              "      <td>19.0</td>\n",
              "    </tr>\n",
              "    <tr>\n",
              "      <th>...</th>\n",
              "      <td>...</td>\n",
              "      <td>...</td>\n",
              "      <td>...</td>\n",
              "      <td>...</td>\n",
              "      <td>...</td>\n",
              "    </tr>\n",
              "    <tr>\n",
              "      <th>395</th>\n",
              "      <td>20.06.2022</td>\n",
              "      <td>20549.1</td>\n",
              "      <td>21039.0</td>\n",
              "      <td>19626.0</td>\n",
              "      <td>7.0</td>\n",
              "    </tr>\n",
              "    <tr>\n",
              "      <th>396</th>\n",
              "      <td>21.06.2022</td>\n",
              "      <td>20694.0</td>\n",
              "      <td>21675.0</td>\n",
              "      <td>20327.0</td>\n",
              "      <td>9.0</td>\n",
              "    </tr>\n",
              "    <tr>\n",
              "      <th>397</th>\n",
              "      <td>22.06.2022</td>\n",
              "      <td>19944.0</td>\n",
              "      <td>20848.0</td>\n",
              "      <td>19730.0</td>\n",
              "      <td>6.0</td>\n",
              "    </tr>\n",
              "    <tr>\n",
              "      <th>398</th>\n",
              "      <td>23.06.2022</td>\n",
              "      <td>21074.0</td>\n",
              "      <td>21179.0</td>\n",
              "      <td>19855.0</td>\n",
              "      <td>6.0</td>\n",
              "    </tr>\n",
              "    <tr>\n",
              "      <th>399</th>\n",
              "      <td>24.06.2022</td>\n",
              "      <td>21089.9</td>\n",
              "      <td>21172.0</td>\n",
              "      <td>20944.0</td>\n",
              "      <td>9.0</td>\n",
              "    </tr>\n",
              "  </tbody>\n",
              "</table>\n",
              "<p>400 rows × 5 columns</p>\n",
              "</div>\n",
              "      <button class=\"colab-df-convert\" onclick=\"convertToInteractive('df-f62a3d25-15fa-4ace-b8a6-f36a6a007e2b')\"\n",
              "              title=\"Convert this dataframe to an interactive table.\"\n",
              "              style=\"display:none;\">\n",
              "        \n",
              "  <svg xmlns=\"http://www.w3.org/2000/svg\" height=\"24px\"viewBox=\"0 0 24 24\"\n",
              "       width=\"24px\">\n",
              "    <path d=\"M0 0h24v24H0V0z\" fill=\"none\"/>\n",
              "    <path d=\"M18.56 5.44l.94 2.06.94-2.06 2.06-.94-2.06-.94-.94-2.06-.94 2.06-2.06.94zm-11 1L8.5 8.5l.94-2.06 2.06-.94-2.06-.94L8.5 2.5l-.94 2.06-2.06.94zm10 10l.94 2.06.94-2.06 2.06-.94-2.06-.94-.94-2.06-.94 2.06-2.06.94z\"/><path d=\"M17.41 7.96l-1.37-1.37c-.4-.4-.92-.59-1.43-.59-.52 0-1.04.2-1.43.59L10.3 9.45l-7.72 7.72c-.78.78-.78 2.05 0 2.83L4 21.41c.39.39.9.59 1.41.59.51 0 1.02-.2 1.41-.59l7.78-7.78 2.81-2.81c.8-.78.8-2.07 0-2.86zM5.41 20L4 18.59l7.72-7.72 1.47 1.35L5.41 20z\"/>\n",
              "  </svg>\n",
              "      </button>\n",
              "      \n",
              "  <style>\n",
              "    .colab-df-container {\n",
              "      display:flex;\n",
              "      flex-wrap:wrap;\n",
              "      gap: 12px;\n",
              "    }\n",
              "\n",
              "    .colab-df-convert {\n",
              "      background-color: #E8F0FE;\n",
              "      border: none;\n",
              "      border-radius: 50%;\n",
              "      cursor: pointer;\n",
              "      display: none;\n",
              "      fill: #1967D2;\n",
              "      height: 32px;\n",
              "      padding: 0 0 0 0;\n",
              "      width: 32px;\n",
              "    }\n",
              "\n",
              "    .colab-df-convert:hover {\n",
              "      background-color: #E2EBFA;\n",
              "      box-shadow: 0px 1px 2px rgba(60, 64, 67, 0.3), 0px 1px 3px 1px rgba(60, 64, 67, 0.15);\n",
              "      fill: #174EA6;\n",
              "    }\n",
              "\n",
              "    [theme=dark] .colab-df-convert {\n",
              "      background-color: #3B4455;\n",
              "      fill: #D2E3FC;\n",
              "    }\n",
              "\n",
              "    [theme=dark] .colab-df-convert:hover {\n",
              "      background-color: #434B5C;\n",
              "      box-shadow: 0px 1px 3px 1px rgba(0, 0, 0, 0.15);\n",
              "      filter: drop-shadow(0px 1px 2px rgba(0, 0, 0, 0.3));\n",
              "      fill: #FFFFFF;\n",
              "    }\n",
              "  </style>\n",
              "\n",
              "      <script>\n",
              "        const buttonEl =\n",
              "          document.querySelector('#df-f62a3d25-15fa-4ace-b8a6-f36a6a007e2b button.colab-df-convert');\n",
              "        buttonEl.style.display =\n",
              "          google.colab.kernel.accessAllowed ? 'block' : 'none';\n",
              "\n",
              "        async function convertToInteractive(key) {\n",
              "          const element = document.querySelector('#df-f62a3d25-15fa-4ace-b8a6-f36a6a007e2b');\n",
              "          const dataTable =\n",
              "            await google.colab.kernel.invokeFunction('convertToInteractive',\n",
              "                                                     [key], {});\n",
              "          if (!dataTable) return;\n",
              "\n",
              "          const docLinkHtml = 'Like what you see? Visit the ' +\n",
              "            '<a target=\"_blank\" href=https://colab.research.google.com/notebooks/data_table.ipynb>data table notebook</a>'\n",
              "            + ' to learn more about interactive tables.';\n",
              "          element.innerHTML = '';\n",
              "          dataTable['output_type'] = 'display_data';\n",
              "          await google.colab.output.renderOutput(dataTable, element);\n",
              "          const docLink = document.createElement('div');\n",
              "          docLink.innerHTML = docLinkHtml;\n",
              "          element.appendChild(docLink);\n",
              "        }\n",
              "      </script>\n",
              "    </div>\n",
              "  </div>\n",
              "  "
            ]
          },
          "metadata": {},
          "execution_count": 424
        }
      ]
    },
    {
      "cell_type": "code",
      "source": [
        "test_data = data_test.drop(['Data'], axis = 1)"
      ],
      "metadata": {
        "id": "mKXG28o4tud5"
      },
      "execution_count": 425,
      "outputs": []
    },
    {
      "cell_type": "code",
      "source": [
        "test_data_N = scaler.fit_transform(test_data)"
      ],
      "metadata": {
        "id": "IFTDeNpAuMbC"
      },
      "execution_count": 426,
      "outputs": []
    },
    {
      "cell_type": "markdown",
      "source": [
        "Normaliza os dados de teste utilizando o mesmo normalizador de treinamento"
      ],
      "metadata": {
        "id": "aQ0exhDdcd4J"
      }
    },
    {
      "cell_type": "code",
      "source": [
        "test_data_N"
      ],
      "metadata": {
        "colab": {
          "base_uri": "https://localhost:8080/"
        },
        "id": "GC0OdvouufJp",
        "outputId": "755613ec-efbc-41de-8d3a-d377a7a9edb3"
      },
      "execution_count": 427,
      "outputs": [
        {
          "output_type": "execute_result",
          "data": {
            "text/plain": [
              "array([[0.37944853, 0.44769215, 0.32731266, 0.26923077],\n",
              "       [0.38285867, 0.37845453, 0.36466821, 0.19230769],\n",
              "       [0.32499331, 0.36660452, 0.27965354, 0.21794872],\n",
              "       ...,\n",
              "       [0.02016021, 0.00331469, 0.04361569, 0.        ],\n",
              "       [0.04342991, 0.01017195, 0.04618132, 0.        ],\n",
              "       [0.04375734, 0.01002693, 0.06853308, 0.03846154]])"
            ]
          },
          "metadata": {},
          "execution_count": 427
        }
      ]
    },
    {
      "cell_type": "code",
      "source": [
        "guard_data2 = test_data.columns.get_loc('Preço')\n",
        "Y_test = test_data_N[:, guard_data2 : guard_data2 + 1]\n",
        "Y_test = Y_test[60 : , :]"
      ],
      "metadata": {
        "id": "HfLBfnYhvLtB"
      },
      "execution_count": 428,
      "outputs": []
    },
    {
      "cell_type": "code",
      "source": [
        "Y_test"
      ],
      "metadata": {
        "id": "zOMye1wryQfh"
      },
      "execution_count": null,
      "outputs": []
    },
    {
      "cell_type": "markdown",
      "source": [
        "X_test = dados_teste\n"
      ],
      "metadata": {
        "id": "oD7UaZaJzeZJ"
      }
    },
    {
      "cell_type": "code",
      "source": [
        "X_test = []\n",
        "for i in range(60, len(test_data_N)):\n",
        "  X_test.append(test_data_N[i - 60: i, :])\n",
        "\n",
        "X_test = np.array(X_test)\n",
        "Y_test = np.array(Y_test)"
      ],
      "metadata": {
        "id": "B2morGVYxpqK"
      },
      "execution_count": 430,
      "outputs": []
    },
    {
      "cell_type": "code",
      "source": [
        "from datetime import datetime"
      ],
      "metadata": {
        "id": "jCvH7rrlDrN9"
      },
      "execution_count": 431,
      "outputs": []
    },
    {
      "cell_type": "code",
      "source": [
        "col_pos = data_test.columns.get_loc('Data')\n",
        "datas = data_test.iloc[:, col_pos : col_pos + 1].values\n",
        "lista_data = []\n",
        "for i in range(0, len(datas)):\n",
        "        data = datas[i, 0]\n",
        "        partes = data.split('.')\n",
        "\n",
        "        dia = partes[0]\n",
        "        #ajusta os valores quando necessário(com 0 à esq.)\n",
        "        if(len(dia) == 1):\n",
        "            dia = '0' + dia\n",
        "        mes = partes[1]\n",
        "        if(len(mes) == 1):\n",
        "            mes ='0' + mes\n",
        "      \n",
        "        data_completa = dia + '/' + mes + '/' + partes[2]\n",
        "        #converte a string em objeto data\n",
        "        data = datetime.strptime(data_completa, '%d/%m/%Y')\n",
        "        lista_data.append(data)\n",
        "datas = lista_data[60 : len(lista_data)]"
      ],
      "metadata": {
        "id": "4To4U8lozkAZ"
      },
      "execution_count": 432,
      "outputs": []
    },
    {
      "cell_type": "code",
      "source": [
        "import matplotlib.pyplot as plt\n",
        "import matplotlib.dates as dates"
      ],
      "metadata": {
        "id": "mqqnuc6-eins"
      },
      "execution_count": 433,
      "outputs": []
    },
    {
      "cell_type": "code",
      "source": [
        "model_save = 'pesos.h5'\n"
      ],
      "metadata": {
        "id": "el1sWviLELDB"
      },
      "execution_count": 434,
      "outputs": []
    },
    {
      "cell_type": "markdown",
      "source": [
        "Recria o modelo através de seus pesos salvos carregando os dados de teste"
      ],
      "metadata": {
        "id": "iQF4UINWdHLZ"
      }
    },
    {
      "cell_type": "code",
      "source": [
        "if isinstance(model_save, str):  \n",
        "  model2 = Sequential()\n",
        "  model2.add(LSTM(units=100, return_sequences=True, input_shape=(60, X_test.shape[2])))\n",
        "  model2.add(Dropout(0.3))\n",
        "  model2.add(LSTM(units=50, return_sequences=True))\n",
        "  model2.add(Dropout(0.3))\n",
        "\n",
        "  model2.add(LSTM(units=50))\n",
        "  model2.add(Dropout(0.3))\n",
        "  model2.add(Dense(units=1))\n",
        "\n",
        "  model2.compile(optimizer='adam', loss='mean_squared_error')\n",
        "\n",
        "  temp = model2\n",
        "  temp.load_weights(model_save)\n",
        "  model_save = temp"
      ],
      "metadata": {
        "id": "-SVEMAuhhWFj"
      },
      "execution_count": 435,
      "outputs": []
    },
    {
      "cell_type": "markdown",
      "source": [
        "Formata os dados de teste com da mesma forma que os dados de treinamento"
      ],
      "metadata": {
        "id": "TlrQyB7-eHcC"
      }
    },
    {
      "cell_type": "code",
      "source": [
        "dados = test_data\n",
        "\n",
        "scaler = MinMaxScaler(feature_range=(0,1))\n",
        "test_data_N2 = scaler.fit_transform(dados)\n",
        "\n",
        "guard_data3 = test_data.columns.get_loc('Preço')\n",
        "Y_test2 = test_data_N2[:, guard_data3 : guard_data3 + 1]\n",
        "Y_test2 = Y_test2[60 : , :]\n",
        "\n",
        "X_test2 = []\n",
        "for i in range(60, len(test_data_N2)):\n",
        "  X_test2.append(test_data_N2[i - 60: i, :])\n",
        "\n",
        "X_test2 = np.array(X_test2)\n",
        "Y_test2 = np.array(Y_test2)\n",
        "\n",
        "dados_teste, dados_esperados = X_test2, Y_test2\n",
        "\n",
        "previstos = model_save.predict(dados_teste)\n",
        "\n",
        "dados = np.array(dados)\n",
        "\n",
        "precos_reais = []\n",
        "\n",
        "for i in range(60, len(dados)):\n",
        "  precos_reais.append(dados[i,0])\n",
        "  dados[i, 0] = previstos[i - 60]\n",
        "\n",
        "dados = dados[60 : len(dados), :]"
      ],
      "metadata": {
        "id": "mt9T0ZDDkHT-"
      },
      "execution_count": 436,
      "outputs": []
    },
    {
      "cell_type": "code",
      "source": [
        "dados_transformados = scaler.inverse_transform(dados)"
      ],
      "metadata": {
        "id": "n9MuBSTRpPAr"
      },
      "execution_count": 437,
      "outputs": []
    },
    {
      "cell_type": "markdown",
      "source": [
        "Plota o gráfico"
      ],
      "metadata": {
        "id": "FCRsiMFeeWV5"
      }
    },
    {
      "cell_type": "code",
      "source": [
        "precos_previstos = dados_transformados[:, 0]\n",
        "fig, ax = plt.subplots()\n",
        "ax.plot(datas, precos_reais, color='blue', label='Preço real')\n",
        "ax.plot(datas, precos_previstos, color='red', label='Preço previsto')\n",
        "\n",
        "#formata data\n",
        "myFmt = dates.DateFormatter(\"%d/%m/%Y\")\n",
        "ax.xaxis.set_major_formatter(myFmt)\n",
        "plt.gcf().autofmt_xdate()\n",
        "plt.title('Previsão do preço do bitcoin')\n",
        "plt.xlabel('Data')\n",
        "plt.ylabel('Preço')\n",
        "plt.legend()\n",
        "plt.show()"
      ],
      "metadata": {
        "colab": {
          "base_uri": "https://localhost:8080/",
          "height": 301
        },
        "id": "OrdPkzo-pX-f",
        "outputId": "0c5fc62e-54ca-461c-f7ba-f0b933cad097"
      },
      "execution_count": 438,
      "outputs": [
        {
          "output_type": "display_data",
          "data": {
            "text/plain": [
              "<Figure size 432x288 with 1 Axes>"
            ],
            "image/png": "[encoded data removed]"
          },
          "metadata": {
            "needs_background": "light"
          }
        }
      ]
    }
  ]
}